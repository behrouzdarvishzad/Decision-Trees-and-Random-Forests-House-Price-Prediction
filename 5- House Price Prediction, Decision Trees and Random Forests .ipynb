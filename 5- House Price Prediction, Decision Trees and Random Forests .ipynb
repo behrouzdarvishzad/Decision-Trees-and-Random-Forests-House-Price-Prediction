{
 "cells": [
  {
   "cell_type": "code",
   "execution_count": 1,
   "id": "377da488",
   "metadata": {},
   "outputs": [],
   "source": [
    "import numpy as np\n",
    "import pandas as pd\n",
    "import matplotlib\n",
    "import statsmodels.api as sm\n",
    "import plotly.express as px\n",
    "import matplotlib.pyplot as plt\n",
    "import seaborn as sns\n",
    "sns.set()\n",
    "from sklearn.tree import plot_tree, export_text\n",
    "%matplotlib inline"
   ]
  },
  {
   "cell_type": "code",
   "execution_count": 2,
   "id": "3cf3e4b5",
   "metadata": {},
   "outputs": [],
   "source": [
    "sns.set_style('darkgrid')\n",
    "matplotlib.rcParams['font.size'] = 14\n",
    "matplotlib.rcParams['figure.figsize'] = (10, 6)\n",
    "matplotlib.rcParams['figure.facecolor'] = '#00000000'"
   ]
  },
  {
   "cell_type": "markdown",
   "id": "671c3d8c",
   "metadata": {},
   "source": [
    "## Loading the row data\n",
    "https://www.kaggle.com/c/house-prices-advanced-regression-techniques/overview"
   ]
  },
  {
   "cell_type": "code",
   "execution_count": 3,
   "id": "d43fb5c5",
   "metadata": {},
   "outputs": [],
   "source": [
    "# load the preprocessed CSV data\n",
    "prices_df = pd.read_csv('HousePricePrediction_dataset.csv')"
   ]
  },
  {
   "cell_type": "code",
   "execution_count": 4,
   "id": "c8128019",
   "metadata": {},
   "outputs": [],
   "source": [
    "from sklearn.impute import SimpleImputer\n",
    "from sklearn.preprocessing import MinMaxScaler, OneHotEncoder\n",
    "from sklearn.model_selection import train_test_split"
   ]
  },
  {
   "cell_type": "code",
   "execution_count": 5,
   "id": "4bcd6793",
   "metadata": {},
   "outputs": [],
   "source": [
    "# Identify input and target columns\n",
    "input_cols, target_col = prices_df.columns[1:-1], prices_df.columns[-1]\n",
    "inputs_df, targets = prices_df[input_cols].copy(), prices_df[target_col].copy()"
   ]
  },
  {
   "cell_type": "code",
   "execution_count": 6,
   "id": "8528b1e9",
   "metadata": {},
   "outputs": [],
   "source": [
    "# Identify numeric and categorical columns\n",
    "numeric_cols = prices_df[input_cols].select_dtypes(include=np.number).columns.tolist()\n",
    "categorical_cols = prices_df[input_cols].select_dtypes(include='object').columns.tolist()"
   ]
  },
  {
   "cell_type": "code",
   "execution_count": 7,
   "id": "d8345606",
   "metadata": {},
   "outputs": [],
   "source": [
    "# Impute and scale numeric columns\n",
    "imputer = SimpleImputer().fit(inputs_df[numeric_cols])\n",
    "inputs_df[numeric_cols] = imputer.transform(inputs_df[numeric_cols])\n",
    "scaler = MinMaxScaler().fit(inputs_df[numeric_cols])\n",
    "inputs_df[numeric_cols] = scaler.transform(inputs_df[numeric_cols])"
   ]
  },
  {
   "cell_type": "code",
   "execution_count": 8,
   "id": "60bdd08d",
   "metadata": {},
   "outputs": [
    {
     "name": "stderr",
     "output_type": "stream",
     "text": [
      "C:\\Users\\bdarv\\anaconda3\\lib\\site-packages\\pandas\\core\\frame.py:3678: PerformanceWarning: DataFrame is highly fragmented.  This is usually the result of calling `frame.insert` many times, which has poor performance.  Consider joining all columns at once using pd.concat(axis=1) instead.  To get a de-fragmented frame, use `newframe = frame.copy()`\n",
      "  self[col] = igetitem(value, i)\n"
     ]
    }
   ],
   "source": [
    "# One-hot encode categorical columns\n",
    "encoder = OneHotEncoder(sparse=False, handle_unknown ='ignore').fit(inputs_df[categorical_cols])\n",
    "encoded_cols = list(encoder.get_feature_names_out(categorical_cols))\n",
    "inputs_df[encoded_cols] = encoder.transform(inputs_df[categorical_cols])"
   ]
  },
  {
   "cell_type": "code",
   "execution_count": 9,
   "id": "c2800756",
   "metadata": {},
   "outputs": [],
   "source": [
    "# Create training and validation sets\n",
    "train_inputs, val_inputs, train_targets, val_targets = train_test_split(inputs_df[numeric_cols + encoded_cols], \n",
    "                                                                        targets, \n",
    "                                                                        test_size=0.25, \n",
    "                                                                        random_state=42)"
   ]
  },
  {
   "cell_type": "code",
   "execution_count": 10,
   "id": "4f4de21c",
   "metadata": {},
   "outputs": [
    {
     "data": {
      "text/html": [
       "<div>\n",
       "<style scoped>\n",
       "    .dataframe tbody tr th:only-of-type {\n",
       "        vertical-align: middle;\n",
       "    }\n",
       "\n",
       "    .dataframe tbody tr th {\n",
       "        vertical-align: top;\n",
       "    }\n",
       "\n",
       "    .dataframe thead th {\n",
       "        text-align: right;\n",
       "    }\n",
       "</style>\n",
       "<table border=\"1\" class=\"dataframe\">\n",
       "  <thead>\n",
       "    <tr style=\"text-align: right;\">\n",
       "      <th></th>\n",
       "      <th>MSSubClass</th>\n",
       "      <th>LotFrontage</th>\n",
       "      <th>LotArea</th>\n",
       "      <th>OverallQual</th>\n",
       "      <th>OverallCond</th>\n",
       "      <th>YearBuilt</th>\n",
       "      <th>YearRemodAdd</th>\n",
       "      <th>MasVnrArea</th>\n",
       "      <th>BsmtFinSF1</th>\n",
       "      <th>BsmtFinSF2</th>\n",
       "      <th>...</th>\n",
       "      <th>SaleType_ConLw</th>\n",
       "      <th>SaleType_New</th>\n",
       "      <th>SaleType_Oth</th>\n",
       "      <th>SaleType_WD</th>\n",
       "      <th>SaleCondition_Abnorml</th>\n",
       "      <th>SaleCondition_AdjLand</th>\n",
       "      <th>SaleCondition_Alloca</th>\n",
       "      <th>SaleCondition_Family</th>\n",
       "      <th>SaleCondition_Normal</th>\n",
       "      <th>SaleCondition_Partial</th>\n",
       "    </tr>\n",
       "  </thead>\n",
       "  <tbody>\n",
       "    <tr>\n",
       "      <th>0</th>\n",
       "      <td>0.235294</td>\n",
       "      <td>0.150685</td>\n",
       "      <td>0.033420</td>\n",
       "      <td>0.666667</td>\n",
       "      <td>0.500</td>\n",
       "      <td>0.949275</td>\n",
       "      <td>0.883333</td>\n",
       "      <td>0.12250</td>\n",
       "      <td>0.125089</td>\n",
       "      <td>0.0</td>\n",
       "      <td>...</td>\n",
       "      <td>0.0</td>\n",
       "      <td>0.0</td>\n",
       "      <td>0.0</td>\n",
       "      <td>1.0</td>\n",
       "      <td>0.0</td>\n",
       "      <td>0.0</td>\n",
       "      <td>0.0</td>\n",
       "      <td>0.0</td>\n",
       "      <td>1.0</td>\n",
       "      <td>0.0</td>\n",
       "    </tr>\n",
       "    <tr>\n",
       "      <th>1</th>\n",
       "      <td>0.000000</td>\n",
       "      <td>0.202055</td>\n",
       "      <td>0.038795</td>\n",
       "      <td>0.555556</td>\n",
       "      <td>0.875</td>\n",
       "      <td>0.753623</td>\n",
       "      <td>0.433333</td>\n",
       "      <td>0.00000</td>\n",
       "      <td>0.173281</td>\n",
       "      <td>0.0</td>\n",
       "      <td>...</td>\n",
       "      <td>0.0</td>\n",
       "      <td>0.0</td>\n",
       "      <td>0.0</td>\n",
       "      <td>1.0</td>\n",
       "      <td>0.0</td>\n",
       "      <td>0.0</td>\n",
       "      <td>0.0</td>\n",
       "      <td>0.0</td>\n",
       "      <td>1.0</td>\n",
       "      <td>0.0</td>\n",
       "    </tr>\n",
       "    <tr>\n",
       "      <th>2</th>\n",
       "      <td>0.235294</td>\n",
       "      <td>0.160959</td>\n",
       "      <td>0.046507</td>\n",
       "      <td>0.666667</td>\n",
       "      <td>0.500</td>\n",
       "      <td>0.934783</td>\n",
       "      <td>0.866667</td>\n",
       "      <td>0.10125</td>\n",
       "      <td>0.086109</td>\n",
       "      <td>0.0</td>\n",
       "      <td>...</td>\n",
       "      <td>0.0</td>\n",
       "      <td>0.0</td>\n",
       "      <td>0.0</td>\n",
       "      <td>1.0</td>\n",
       "      <td>0.0</td>\n",
       "      <td>0.0</td>\n",
       "      <td>0.0</td>\n",
       "      <td>0.0</td>\n",
       "      <td>1.0</td>\n",
       "      <td>0.0</td>\n",
       "    </tr>\n",
       "    <tr>\n",
       "      <th>3</th>\n",
       "      <td>0.294118</td>\n",
       "      <td>0.133562</td>\n",
       "      <td>0.038561</td>\n",
       "      <td>0.666667</td>\n",
       "      <td>0.500</td>\n",
       "      <td>0.311594</td>\n",
       "      <td>0.333333</td>\n",
       "      <td>0.00000</td>\n",
       "      <td>0.038271</td>\n",
       "      <td>0.0</td>\n",
       "      <td>...</td>\n",
       "      <td>0.0</td>\n",
       "      <td>0.0</td>\n",
       "      <td>0.0</td>\n",
       "      <td>1.0</td>\n",
       "      <td>1.0</td>\n",
       "      <td>0.0</td>\n",
       "      <td>0.0</td>\n",
       "      <td>0.0</td>\n",
       "      <td>0.0</td>\n",
       "      <td>0.0</td>\n",
       "    </tr>\n",
       "    <tr>\n",
       "      <th>4</th>\n",
       "      <td>0.235294</td>\n",
       "      <td>0.215753</td>\n",
       "      <td>0.060576</td>\n",
       "      <td>0.777778</td>\n",
       "      <td>0.500</td>\n",
       "      <td>0.927536</td>\n",
       "      <td>0.833333</td>\n",
       "      <td>0.21875</td>\n",
       "      <td>0.116052</td>\n",
       "      <td>0.0</td>\n",
       "      <td>...</td>\n",
       "      <td>0.0</td>\n",
       "      <td>0.0</td>\n",
       "      <td>0.0</td>\n",
       "      <td>1.0</td>\n",
       "      <td>0.0</td>\n",
       "      <td>0.0</td>\n",
       "      <td>0.0</td>\n",
       "      <td>0.0</td>\n",
       "      <td>1.0</td>\n",
       "      <td>0.0</td>\n",
       "    </tr>\n",
       "  </tbody>\n",
       "</table>\n",
       "<p>5 rows × 304 columns</p>\n",
       "</div>"
      ],
      "text/plain": [
       "   MSSubClass  LotFrontage   LotArea  OverallQual  OverallCond  YearBuilt  \\\n",
       "0    0.235294     0.150685  0.033420     0.666667        0.500   0.949275   \n",
       "1    0.000000     0.202055  0.038795     0.555556        0.875   0.753623   \n",
       "2    0.235294     0.160959  0.046507     0.666667        0.500   0.934783   \n",
       "3    0.294118     0.133562  0.038561     0.666667        0.500   0.311594   \n",
       "4    0.235294     0.215753  0.060576     0.777778        0.500   0.927536   \n",
       "\n",
       "   YearRemodAdd  MasVnrArea  BsmtFinSF1  BsmtFinSF2  ...  SaleType_ConLw  \\\n",
       "0      0.883333     0.12250    0.125089         0.0  ...             0.0   \n",
       "1      0.433333     0.00000    0.173281         0.0  ...             0.0   \n",
       "2      0.866667     0.10125    0.086109         0.0  ...             0.0   \n",
       "3      0.333333     0.00000    0.038271         0.0  ...             0.0   \n",
       "4      0.833333     0.21875    0.116052         0.0  ...             0.0   \n",
       "\n",
       "   SaleType_New  SaleType_Oth  SaleType_WD  SaleCondition_Abnorml  \\\n",
       "0           0.0           0.0          1.0                    0.0   \n",
       "1           0.0           0.0          1.0                    0.0   \n",
       "2           0.0           0.0          1.0                    0.0   \n",
       "3           0.0           0.0          1.0                    1.0   \n",
       "4           0.0           0.0          1.0                    0.0   \n",
       "\n",
       "   SaleCondition_AdjLand  SaleCondition_Alloca  SaleCondition_Family  \\\n",
       "0                    0.0                   0.0                   0.0   \n",
       "1                    0.0                   0.0                   0.0   \n",
       "2                    0.0                   0.0                   0.0   \n",
       "3                    0.0                   0.0                   0.0   \n",
       "4                    0.0                   0.0                   0.0   \n",
       "\n",
       "   SaleCondition_Normal  SaleCondition_Partial  \n",
       "0                   1.0                    0.0  \n",
       "1                   1.0                    0.0  \n",
       "2                   1.0                    0.0  \n",
       "3                   0.0                    0.0  \n",
       "4                   1.0                    0.0  \n",
       "\n",
       "[5 rows x 304 columns]"
      ]
     },
     "execution_count": 10,
     "metadata": {},
     "output_type": "execute_result"
    }
   ],
   "source": [
    "inputs_df[numeric_cols + encoded_cols].head()"
   ]
  },
  {
   "cell_type": "code",
   "execution_count": 11,
   "id": "b14912a0",
   "metadata": {},
   "outputs": [
    {
     "data": {
      "text/plain": [
       "1023    191000\n",
       "810     181000\n",
       "1384    105000\n",
       "626     139900\n",
       "813     157900\n",
       "Name: SalePrice, dtype: int64"
      ]
     },
     "execution_count": 11,
     "metadata": {},
     "output_type": "execute_result"
    }
   ],
   "source": [
    "train_targets.head()"
   ]
  },
  {
   "cell_type": "code",
   "execution_count": 12,
   "id": "73186d02",
   "metadata": {},
   "outputs": [
    {
     "data": {
      "text/html": [
       "<div>\n",
       "<style scoped>\n",
       "    .dataframe tbody tr th:only-of-type {\n",
       "        vertical-align: middle;\n",
       "    }\n",
       "\n",
       "    .dataframe tbody tr th {\n",
       "        vertical-align: top;\n",
       "    }\n",
       "\n",
       "    .dataframe thead th {\n",
       "        text-align: right;\n",
       "    }\n",
       "</style>\n",
       "<table border=\"1\" class=\"dataframe\">\n",
       "  <thead>\n",
       "    <tr style=\"text-align: right;\">\n",
       "      <th></th>\n",
       "      <th>MSSubClass</th>\n",
       "      <th>LotFrontage</th>\n",
       "      <th>LotArea</th>\n",
       "      <th>OverallQual</th>\n",
       "      <th>OverallCond</th>\n",
       "      <th>YearBuilt</th>\n",
       "      <th>YearRemodAdd</th>\n",
       "      <th>MasVnrArea</th>\n",
       "      <th>BsmtFinSF1</th>\n",
       "      <th>BsmtFinSF2</th>\n",
       "      <th>...</th>\n",
       "      <th>SaleType_ConLw</th>\n",
       "      <th>SaleType_New</th>\n",
       "      <th>SaleType_Oth</th>\n",
       "      <th>SaleType_WD</th>\n",
       "      <th>SaleCondition_Abnorml</th>\n",
       "      <th>SaleCondition_AdjLand</th>\n",
       "      <th>SaleCondition_Alloca</th>\n",
       "      <th>SaleCondition_Family</th>\n",
       "      <th>SaleCondition_Normal</th>\n",
       "      <th>SaleCondition_Partial</th>\n",
       "    </tr>\n",
       "  </thead>\n",
       "  <tbody>\n",
       "    <tr>\n",
       "      <th>892</th>\n",
       "      <td>0.000000</td>\n",
       "      <td>0.167808</td>\n",
       "      <td>0.033252</td>\n",
       "      <td>0.555556</td>\n",
       "      <td>0.875</td>\n",
       "      <td>0.659420</td>\n",
       "      <td>0.883333</td>\n",
       "      <td>0.00000</td>\n",
       "      <td>0.117470</td>\n",
       "      <td>0.0</td>\n",
       "      <td>...</td>\n",
       "      <td>0.0</td>\n",
       "      <td>0.0</td>\n",
       "      <td>0.0</td>\n",
       "      <td>1.0</td>\n",
       "      <td>0.0</td>\n",
       "      <td>0.0</td>\n",
       "      <td>0.0</td>\n",
       "      <td>0.0</td>\n",
       "      <td>1.0</td>\n",
       "      <td>0.0</td>\n",
       "    </tr>\n",
       "    <tr>\n",
       "      <th>1105</th>\n",
       "      <td>0.235294</td>\n",
       "      <td>0.263699</td>\n",
       "      <td>0.051209</td>\n",
       "      <td>0.777778</td>\n",
       "      <td>0.500</td>\n",
       "      <td>0.884058</td>\n",
       "      <td>0.750000</td>\n",
       "      <td>0.22625</td>\n",
       "      <td>0.182849</td>\n",
       "      <td>0.0</td>\n",
       "      <td>...</td>\n",
       "      <td>0.0</td>\n",
       "      <td>0.0</td>\n",
       "      <td>0.0</td>\n",
       "      <td>1.0</td>\n",
       "      <td>0.0</td>\n",
       "      <td>0.0</td>\n",
       "      <td>0.0</td>\n",
       "      <td>0.0</td>\n",
       "      <td>1.0</td>\n",
       "      <td>0.0</td>\n",
       "    </tr>\n",
       "    <tr>\n",
       "      <th>413</th>\n",
       "      <td>0.058824</td>\n",
       "      <td>0.119863</td>\n",
       "      <td>0.035804</td>\n",
       "      <td>0.444444</td>\n",
       "      <td>0.625</td>\n",
       "      <td>0.398551</td>\n",
       "      <td>0.000000</td>\n",
       "      <td>0.00000</td>\n",
       "      <td>0.000000</td>\n",
       "      <td>0.0</td>\n",
       "      <td>...</td>\n",
       "      <td>0.0</td>\n",
       "      <td>0.0</td>\n",
       "      <td>0.0</td>\n",
       "      <td>1.0</td>\n",
       "      <td>0.0</td>\n",
       "      <td>0.0</td>\n",
       "      <td>0.0</td>\n",
       "      <td>0.0</td>\n",
       "      <td>1.0</td>\n",
       "      <td>0.0</td>\n",
       "    </tr>\n",
       "    <tr>\n",
       "      <th>522</th>\n",
       "      <td>0.176471</td>\n",
       "      <td>0.099315</td>\n",
       "      <td>0.017294</td>\n",
       "      <td>0.555556</td>\n",
       "      <td>0.750</td>\n",
       "      <td>0.543478</td>\n",
       "      <td>0.000000</td>\n",
       "      <td>0.00000</td>\n",
       "      <td>0.070695</td>\n",
       "      <td>0.0</td>\n",
       "      <td>...</td>\n",
       "      <td>0.0</td>\n",
       "      <td>0.0</td>\n",
       "      <td>0.0</td>\n",
       "      <td>1.0</td>\n",
       "      <td>0.0</td>\n",
       "      <td>0.0</td>\n",
       "      <td>0.0</td>\n",
       "      <td>0.0</td>\n",
       "      <td>1.0</td>\n",
       "      <td>0.0</td>\n",
       "    </tr>\n",
       "    <tr>\n",
       "      <th>1036</th>\n",
       "      <td>0.000000</td>\n",
       "      <td>0.232877</td>\n",
       "      <td>0.054210</td>\n",
       "      <td>0.888889</td>\n",
       "      <td>0.500</td>\n",
       "      <td>0.978261</td>\n",
       "      <td>0.966667</td>\n",
       "      <td>0.04375</td>\n",
       "      <td>0.181077</td>\n",
       "      <td>0.0</td>\n",
       "      <td>...</td>\n",
       "      <td>0.0</td>\n",
       "      <td>0.0</td>\n",
       "      <td>0.0</td>\n",
       "      <td>1.0</td>\n",
       "      <td>0.0</td>\n",
       "      <td>0.0</td>\n",
       "      <td>0.0</td>\n",
       "      <td>0.0</td>\n",
       "      <td>1.0</td>\n",
       "      <td>0.0</td>\n",
       "    </tr>\n",
       "  </tbody>\n",
       "</table>\n",
       "<p>5 rows × 304 columns</p>\n",
       "</div>"
      ],
      "text/plain": [
       "      MSSubClass  LotFrontage   LotArea  OverallQual  OverallCond  YearBuilt  \\\n",
       "892     0.000000     0.167808  0.033252     0.555556        0.875   0.659420   \n",
       "1105    0.235294     0.263699  0.051209     0.777778        0.500   0.884058   \n",
       "413     0.058824     0.119863  0.035804     0.444444        0.625   0.398551   \n",
       "522     0.176471     0.099315  0.017294     0.555556        0.750   0.543478   \n",
       "1036    0.000000     0.232877  0.054210     0.888889        0.500   0.978261   \n",
       "\n",
       "      YearRemodAdd  MasVnrArea  BsmtFinSF1  BsmtFinSF2  ...  SaleType_ConLw  \\\n",
       "892       0.883333     0.00000    0.117470         0.0  ...             0.0   \n",
       "1105      0.750000     0.22625    0.182849         0.0  ...             0.0   \n",
       "413       0.000000     0.00000    0.000000         0.0  ...             0.0   \n",
       "522       0.000000     0.00000    0.070695         0.0  ...             0.0   \n",
       "1036      0.966667     0.04375    0.181077         0.0  ...             0.0   \n",
       "\n",
       "      SaleType_New  SaleType_Oth  SaleType_WD  SaleCondition_Abnorml  \\\n",
       "892            0.0           0.0          1.0                    0.0   \n",
       "1105           0.0           0.0          1.0                    0.0   \n",
       "413            0.0           0.0          1.0                    0.0   \n",
       "522            0.0           0.0          1.0                    0.0   \n",
       "1036           0.0           0.0          1.0                    0.0   \n",
       "\n",
       "      SaleCondition_AdjLand  SaleCondition_Alloca  SaleCondition_Family  \\\n",
       "892                     0.0                   0.0                   0.0   \n",
       "1105                    0.0                   0.0                   0.0   \n",
       "413                     0.0                   0.0                   0.0   \n",
       "522                     0.0                   0.0                   0.0   \n",
       "1036                    0.0                   0.0                   0.0   \n",
       "\n",
       "      SaleCondition_Normal  SaleCondition_Partial  \n",
       "892                    1.0                    0.0  \n",
       "1105                   1.0                    0.0  \n",
       "413                    1.0                    0.0  \n",
       "522                    1.0                    0.0  \n",
       "1036                   1.0                    0.0  \n",
       "\n",
       "[5 rows x 304 columns]"
      ]
     },
     "execution_count": 12,
     "metadata": {},
     "output_type": "execute_result"
    }
   ],
   "source": [
    "val_inputs.head()"
   ]
  },
  {
   "cell_type": "markdown",
   "id": "7589c372",
   "metadata": {},
   "source": [
    "## Decision Tree\n"
   ]
  },
  {
   "cell_type": "code",
   "execution_count": 13,
   "id": "3259f1d0",
   "metadata": {},
   "outputs": [],
   "source": [
    "from sklearn.tree import DecisionTreeRegressor"
   ]
  },
  {
   "cell_type": "code",
   "execution_count": 14,
   "id": "5acced51",
   "metadata": {},
   "outputs": [],
   "source": [
    "# Create the model\n",
    "tree = DecisionTreeRegressor(  max_depth = 5, random_state=42)"
   ]
  },
  {
   "cell_type": "code",
   "execution_count": 15,
   "id": "60eee6e2",
   "metadata": {},
   "outputs": [
    {
     "data": {
      "text/plain": [
       "DecisionTreeRegressor(max_depth=5, random_state=42)"
      ]
     },
     "execution_count": 15,
     "metadata": {},
     "output_type": "execute_result"
    }
   ],
   "source": [
    "tree.fit(train_inputs[numeric_cols + encoded_cols], train_targets)"
   ]
  },
  {
   "cell_type": "code",
   "execution_count": 16,
   "id": "45d8cc8b",
   "metadata": {},
   "outputs": [],
   "source": [
    "X_train = train_inputs[numeric_cols + encoded_cols]\n",
    "X_val = val_inputs[numeric_cols + encoded_cols]"
   ]
  },
  {
   "cell_type": "code",
   "execution_count": 17,
   "id": "141f8c4a",
   "metadata": {},
   "outputs": [
    {
     "data": {
      "text/html": [
       "<div>\n",
       "<style scoped>\n",
       "    .dataframe tbody tr th:only-of-type {\n",
       "        vertical-align: middle;\n",
       "    }\n",
       "\n",
       "    .dataframe tbody tr th {\n",
       "        vertical-align: top;\n",
       "    }\n",
       "\n",
       "    .dataframe thead th {\n",
       "        text-align: right;\n",
       "    }\n",
       "</style>\n",
       "<table border=\"1\" class=\"dataframe\">\n",
       "  <thead>\n",
       "    <tr style=\"text-align: right;\">\n",
       "      <th></th>\n",
       "      <th>MSSubClass</th>\n",
       "      <th>LotFrontage</th>\n",
       "      <th>LotArea</th>\n",
       "      <th>OverallQual</th>\n",
       "      <th>OverallCond</th>\n",
       "      <th>YearBuilt</th>\n",
       "      <th>YearRemodAdd</th>\n",
       "      <th>MasVnrArea</th>\n",
       "      <th>BsmtFinSF1</th>\n",
       "      <th>BsmtFinSF2</th>\n",
       "      <th>...</th>\n",
       "      <th>SaleType_ConLw</th>\n",
       "      <th>SaleType_New</th>\n",
       "      <th>SaleType_Oth</th>\n",
       "      <th>SaleType_WD</th>\n",
       "      <th>SaleCondition_Abnorml</th>\n",
       "      <th>SaleCondition_AdjLand</th>\n",
       "      <th>SaleCondition_Alloca</th>\n",
       "      <th>SaleCondition_Family</th>\n",
       "      <th>SaleCondition_Normal</th>\n",
       "      <th>SaleCondition_Partial</th>\n",
       "    </tr>\n",
       "  </thead>\n",
       "  <tbody>\n",
       "    <tr>\n",
       "      <th>1023</th>\n",
       "      <td>0.588235</td>\n",
       "      <td>0.075342</td>\n",
       "      <td>0.008797</td>\n",
       "      <td>0.666667</td>\n",
       "      <td>0.500</td>\n",
       "      <td>0.963768</td>\n",
       "      <td>0.933333</td>\n",
       "      <td>0.008750</td>\n",
       "      <td>0.002835</td>\n",
       "      <td>0.000000</td>\n",
       "      <td>...</td>\n",
       "      <td>0.0</td>\n",
       "      <td>0.0</td>\n",
       "      <td>0.0</td>\n",
       "      <td>1.0</td>\n",
       "      <td>0.0</td>\n",
       "      <td>0.0</td>\n",
       "      <td>0.0</td>\n",
       "      <td>0.0</td>\n",
       "      <td>1.0</td>\n",
       "      <td>0.0</td>\n",
       "    </tr>\n",
       "    <tr>\n",
       "      <th>810</th>\n",
       "      <td>0.000000</td>\n",
       "      <td>0.195205</td>\n",
       "      <td>0.041319</td>\n",
       "      <td>0.555556</td>\n",
       "      <td>0.625</td>\n",
       "      <td>0.739130</td>\n",
       "      <td>0.816667</td>\n",
       "      <td>0.061875</td>\n",
       "      <td>0.117470</td>\n",
       "      <td>0.255767</td>\n",
       "      <td>...</td>\n",
       "      <td>0.0</td>\n",
       "      <td>0.0</td>\n",
       "      <td>0.0</td>\n",
       "      <td>1.0</td>\n",
       "      <td>0.0</td>\n",
       "      <td>0.0</td>\n",
       "      <td>0.0</td>\n",
       "      <td>0.0</td>\n",
       "      <td>1.0</td>\n",
       "      <td>0.0</td>\n",
       "    </tr>\n",
       "    <tr>\n",
       "      <th>1384</th>\n",
       "      <td>0.176471</td>\n",
       "      <td>0.133562</td>\n",
       "      <td>0.036271</td>\n",
       "      <td>0.555556</td>\n",
       "      <td>0.500</td>\n",
       "      <td>0.485507</td>\n",
       "      <td>0.000000</td>\n",
       "      <td>0.000000</td>\n",
       "      <td>0.036145</td>\n",
       "      <td>0.000000</td>\n",
       "      <td>...</td>\n",
       "      <td>0.0</td>\n",
       "      <td>0.0</td>\n",
       "      <td>0.0</td>\n",
       "      <td>1.0</td>\n",
       "      <td>0.0</td>\n",
       "      <td>0.0</td>\n",
       "      <td>0.0</td>\n",
       "      <td>0.0</td>\n",
       "      <td>1.0</td>\n",
       "      <td>0.0</td>\n",
       "    </tr>\n",
       "    <tr>\n",
       "      <th>626</th>\n",
       "      <td>0.000000</td>\n",
       "      <td>0.167979</td>\n",
       "      <td>0.051611</td>\n",
       "      <td>0.444444</td>\n",
       "      <td>0.500</td>\n",
       "      <td>0.637681</td>\n",
       "      <td>0.466667</td>\n",
       "      <td>0.000000</td>\n",
       "      <td>0.000000</td>\n",
       "      <td>0.000000</td>\n",
       "      <td>...</td>\n",
       "      <td>0.0</td>\n",
       "      <td>0.0</td>\n",
       "      <td>0.0</td>\n",
       "      <td>1.0</td>\n",
       "      <td>0.0</td>\n",
       "      <td>0.0</td>\n",
       "      <td>0.0</td>\n",
       "      <td>0.0</td>\n",
       "      <td>1.0</td>\n",
       "      <td>0.0</td>\n",
       "    </tr>\n",
       "    <tr>\n",
       "      <th>813</th>\n",
       "      <td>0.000000</td>\n",
       "      <td>0.184932</td>\n",
       "      <td>0.039496</td>\n",
       "      <td>0.555556</td>\n",
       "      <td>0.625</td>\n",
       "      <td>0.623188</td>\n",
       "      <td>0.133333</td>\n",
       "      <td>0.151875</td>\n",
       "      <td>0.107725</td>\n",
       "      <td>0.000000</td>\n",
       "      <td>...</td>\n",
       "      <td>0.0</td>\n",
       "      <td>0.0</td>\n",
       "      <td>0.0</td>\n",
       "      <td>0.0</td>\n",
       "      <td>0.0</td>\n",
       "      <td>0.0</td>\n",
       "      <td>0.0</td>\n",
       "      <td>0.0</td>\n",
       "      <td>1.0</td>\n",
       "      <td>0.0</td>\n",
       "    </tr>\n",
       "    <tr>\n",
       "      <th>...</th>\n",
       "      <td>...</td>\n",
       "      <td>...</td>\n",
       "      <td>...</td>\n",
       "      <td>...</td>\n",
       "      <td>...</td>\n",
       "      <td>...</td>\n",
       "      <td>...</td>\n",
       "      <td>...</td>\n",
       "      <td>...</td>\n",
       "      <td>...</td>\n",
       "      <td>...</td>\n",
       "      <td>...</td>\n",
       "      <td>...</td>\n",
       "      <td>...</td>\n",
       "      <td>...</td>\n",
       "      <td>...</td>\n",
       "      <td>...</td>\n",
       "      <td>...</td>\n",
       "      <td>...</td>\n",
       "      <td>...</td>\n",
       "      <td>...</td>\n",
       "    </tr>\n",
       "    <tr>\n",
       "      <th>1095</th>\n",
       "      <td>0.000000</td>\n",
       "      <td>0.195205</td>\n",
       "      <td>0.037472</td>\n",
       "      <td>0.555556</td>\n",
       "      <td>0.500</td>\n",
       "      <td>0.971014</td>\n",
       "      <td>0.933333</td>\n",
       "      <td>0.000000</td>\n",
       "      <td>0.004252</td>\n",
       "      <td>0.000000</td>\n",
       "      <td>...</td>\n",
       "      <td>0.0</td>\n",
       "      <td>0.0</td>\n",
       "      <td>0.0</td>\n",
       "      <td>1.0</td>\n",
       "      <td>0.0</td>\n",
       "      <td>0.0</td>\n",
       "      <td>0.0</td>\n",
       "      <td>0.0</td>\n",
       "      <td>1.0</td>\n",
       "      <td>0.0</td>\n",
       "    </tr>\n",
       "    <tr>\n",
       "      <th>1130</th>\n",
       "      <td>0.176471</td>\n",
       "      <td>0.150685</td>\n",
       "      <td>0.030400</td>\n",
       "      <td>0.333333</td>\n",
       "      <td>0.250</td>\n",
       "      <td>0.405797</td>\n",
       "      <td>0.000000</td>\n",
       "      <td>0.000000</td>\n",
       "      <td>0.110206</td>\n",
       "      <td>0.000000</td>\n",
       "      <td>...</td>\n",
       "      <td>0.0</td>\n",
       "      <td>0.0</td>\n",
       "      <td>0.0</td>\n",
       "      <td>1.0</td>\n",
       "      <td>0.0</td>\n",
       "      <td>0.0</td>\n",
       "      <td>0.0</td>\n",
       "      <td>0.0</td>\n",
       "      <td>1.0</td>\n",
       "      <td>0.0</td>\n",
       "    </tr>\n",
       "    <tr>\n",
       "      <th>1294</th>\n",
       "      <td>0.000000</td>\n",
       "      <td>0.133562</td>\n",
       "      <td>0.032120</td>\n",
       "      <td>0.444444</td>\n",
       "      <td>0.750</td>\n",
       "      <td>0.601449</td>\n",
       "      <td>0.666667</td>\n",
       "      <td>0.000000</td>\n",
       "      <td>0.029589</td>\n",
       "      <td>0.000000</td>\n",
       "      <td>...</td>\n",
       "      <td>0.0</td>\n",
       "      <td>0.0</td>\n",
       "      <td>0.0</td>\n",
       "      <td>1.0</td>\n",
       "      <td>0.0</td>\n",
       "      <td>0.0</td>\n",
       "      <td>0.0</td>\n",
       "      <td>0.0</td>\n",
       "      <td>1.0</td>\n",
       "      <td>0.0</td>\n",
       "    </tr>\n",
       "    <tr>\n",
       "      <th>860</th>\n",
       "      <td>0.176471</td>\n",
       "      <td>0.116438</td>\n",
       "      <td>0.029643</td>\n",
       "      <td>0.666667</td>\n",
       "      <td>0.875</td>\n",
       "      <td>0.333333</td>\n",
       "      <td>0.800000</td>\n",
       "      <td>0.000000</td>\n",
       "      <td>0.000000</td>\n",
       "      <td>0.000000</td>\n",
       "      <td>...</td>\n",
       "      <td>0.0</td>\n",
       "      <td>0.0</td>\n",
       "      <td>0.0</td>\n",
       "      <td>1.0</td>\n",
       "      <td>0.0</td>\n",
       "      <td>0.0</td>\n",
       "      <td>0.0</td>\n",
       "      <td>0.0</td>\n",
       "      <td>1.0</td>\n",
       "      <td>0.0</td>\n",
       "    </tr>\n",
       "    <tr>\n",
       "      <th>1126</th>\n",
       "      <td>0.588235</td>\n",
       "      <td>0.109589</td>\n",
       "      <td>0.011143</td>\n",
       "      <td>0.666667</td>\n",
       "      <td>0.500</td>\n",
       "      <td>0.978261</td>\n",
       "      <td>0.950000</td>\n",
       "      <td>0.081250</td>\n",
       "      <td>0.000000</td>\n",
       "      <td>0.000000</td>\n",
       "      <td>...</td>\n",
       "      <td>0.0</td>\n",
       "      <td>0.0</td>\n",
       "      <td>0.0</td>\n",
       "      <td>1.0</td>\n",
       "      <td>0.0</td>\n",
       "      <td>0.0</td>\n",
       "      <td>0.0</td>\n",
       "      <td>0.0</td>\n",
       "      <td>1.0</td>\n",
       "      <td>0.0</td>\n",
       "    </tr>\n",
       "  </tbody>\n",
       "</table>\n",
       "<p>1095 rows × 304 columns</p>\n",
       "</div>"
      ],
      "text/plain": [
       "      MSSubClass  LotFrontage   LotArea  OverallQual  OverallCond  YearBuilt  \\\n",
       "1023    0.588235     0.075342  0.008797     0.666667        0.500   0.963768   \n",
       "810     0.000000     0.195205  0.041319     0.555556        0.625   0.739130   \n",
       "1384    0.176471     0.133562  0.036271     0.555556        0.500   0.485507   \n",
       "626     0.000000     0.167979  0.051611     0.444444        0.500   0.637681   \n",
       "813     0.000000     0.184932  0.039496     0.555556        0.625   0.623188   \n",
       "...          ...          ...       ...          ...          ...        ...   \n",
       "1095    0.000000     0.195205  0.037472     0.555556        0.500   0.971014   \n",
       "1130    0.176471     0.150685  0.030400     0.333333        0.250   0.405797   \n",
       "1294    0.000000     0.133562  0.032120     0.444444        0.750   0.601449   \n",
       "860     0.176471     0.116438  0.029643     0.666667        0.875   0.333333   \n",
       "1126    0.588235     0.109589  0.011143     0.666667        0.500   0.978261   \n",
       "\n",
       "      YearRemodAdd  MasVnrArea  BsmtFinSF1  BsmtFinSF2  ...  SaleType_ConLw  \\\n",
       "1023      0.933333    0.008750    0.002835    0.000000  ...             0.0   \n",
       "810       0.816667    0.061875    0.117470    0.255767  ...             0.0   \n",
       "1384      0.000000    0.000000    0.036145    0.000000  ...             0.0   \n",
       "626       0.466667    0.000000    0.000000    0.000000  ...             0.0   \n",
       "813       0.133333    0.151875    0.107725    0.000000  ...             0.0   \n",
       "...            ...         ...         ...         ...  ...             ...   \n",
       "1095      0.933333    0.000000    0.004252    0.000000  ...             0.0   \n",
       "1130      0.000000    0.000000    0.110206    0.000000  ...             0.0   \n",
       "1294      0.666667    0.000000    0.029589    0.000000  ...             0.0   \n",
       "860       0.800000    0.000000    0.000000    0.000000  ...             0.0   \n",
       "1126      0.950000    0.081250    0.000000    0.000000  ...             0.0   \n",
       "\n",
       "      SaleType_New  SaleType_Oth  SaleType_WD  SaleCondition_Abnorml  \\\n",
       "1023           0.0           0.0          1.0                    0.0   \n",
       "810            0.0           0.0          1.0                    0.0   \n",
       "1384           0.0           0.0          1.0                    0.0   \n",
       "626            0.0           0.0          1.0                    0.0   \n",
       "813            0.0           0.0          0.0                    0.0   \n",
       "...            ...           ...          ...                    ...   \n",
       "1095           0.0           0.0          1.0                    0.0   \n",
       "1130           0.0           0.0          1.0                    0.0   \n",
       "1294           0.0           0.0          1.0                    0.0   \n",
       "860            0.0           0.0          1.0                    0.0   \n",
       "1126           0.0           0.0          1.0                    0.0   \n",
       "\n",
       "      SaleCondition_AdjLand  SaleCondition_Alloca  SaleCondition_Family  \\\n",
       "1023                    0.0                   0.0                   0.0   \n",
       "810                     0.0                   0.0                   0.0   \n",
       "1384                    0.0                   0.0                   0.0   \n",
       "626                     0.0                   0.0                   0.0   \n",
       "813                     0.0                   0.0                   0.0   \n",
       "...                     ...                   ...                   ...   \n",
       "1095                    0.0                   0.0                   0.0   \n",
       "1130                    0.0                   0.0                   0.0   \n",
       "1294                    0.0                   0.0                   0.0   \n",
       "860                     0.0                   0.0                   0.0   \n",
       "1126                    0.0                   0.0                   0.0   \n",
       "\n",
       "      SaleCondition_Normal  SaleCondition_Partial  \n",
       "1023                   1.0                    0.0  \n",
       "810                    1.0                    0.0  \n",
       "1384                   1.0                    0.0  \n",
       "626                    1.0                    0.0  \n",
       "813                    1.0                    0.0  \n",
       "...                    ...                    ...  \n",
       "1095                   1.0                    0.0  \n",
       "1130                   1.0                    0.0  \n",
       "1294                   1.0                    0.0  \n",
       "860                    1.0                    0.0  \n",
       "1126                   1.0                    0.0  \n",
       "\n",
       "[1095 rows x 304 columns]"
      ]
     },
     "execution_count": 17,
     "metadata": {},
     "output_type": "execute_result"
    }
   ],
   "source": [
    "X_train"
   ]
  },
  {
   "cell_type": "code",
   "execution_count": 18,
   "id": "84029777",
   "metadata": {},
   "outputs": [
    {
     "data": {
      "text/html": [
       "<div>\n",
       "<style scoped>\n",
       "    .dataframe tbody tr th:only-of-type {\n",
       "        vertical-align: middle;\n",
       "    }\n",
       "\n",
       "    .dataframe tbody tr th {\n",
       "        vertical-align: top;\n",
       "    }\n",
       "\n",
       "    .dataframe thead th {\n",
       "        text-align: right;\n",
       "    }\n",
       "</style>\n",
       "<table border=\"1\" class=\"dataframe\">\n",
       "  <thead>\n",
       "    <tr style=\"text-align: right;\">\n",
       "      <th></th>\n",
       "      <th>MSSubClass</th>\n",
       "      <th>LotFrontage</th>\n",
       "      <th>LotArea</th>\n",
       "      <th>OverallQual</th>\n",
       "      <th>OverallCond</th>\n",
       "      <th>YearBuilt</th>\n",
       "      <th>YearRemodAdd</th>\n",
       "      <th>MasVnrArea</th>\n",
       "      <th>BsmtFinSF1</th>\n",
       "      <th>BsmtFinSF2</th>\n",
       "      <th>...</th>\n",
       "      <th>SaleType_ConLw</th>\n",
       "      <th>SaleType_New</th>\n",
       "      <th>SaleType_Oth</th>\n",
       "      <th>SaleType_WD</th>\n",
       "      <th>SaleCondition_Abnorml</th>\n",
       "      <th>SaleCondition_AdjLand</th>\n",
       "      <th>SaleCondition_Alloca</th>\n",
       "      <th>SaleCondition_Family</th>\n",
       "      <th>SaleCondition_Normal</th>\n",
       "      <th>SaleCondition_Partial</th>\n",
       "    </tr>\n",
       "  </thead>\n",
       "  <tbody>\n",
       "    <tr>\n",
       "      <th>892</th>\n",
       "      <td>0.000000</td>\n",
       "      <td>0.167808</td>\n",
       "      <td>0.033252</td>\n",
       "      <td>0.555556</td>\n",
       "      <td>0.875</td>\n",
       "      <td>0.659420</td>\n",
       "      <td>0.883333</td>\n",
       "      <td>0.000000</td>\n",
       "      <td>0.117470</td>\n",
       "      <td>0.000000</td>\n",
       "      <td>...</td>\n",
       "      <td>0.0</td>\n",
       "      <td>0.0</td>\n",
       "      <td>0.0</td>\n",
       "      <td>1.0</td>\n",
       "      <td>0.0</td>\n",
       "      <td>0.0</td>\n",
       "      <td>0.0</td>\n",
       "      <td>0.0</td>\n",
       "      <td>1.0</td>\n",
       "      <td>0.0</td>\n",
       "    </tr>\n",
       "    <tr>\n",
       "      <th>1105</th>\n",
       "      <td>0.235294</td>\n",
       "      <td>0.263699</td>\n",
       "      <td>0.051209</td>\n",
       "      <td>0.777778</td>\n",
       "      <td>0.500</td>\n",
       "      <td>0.884058</td>\n",
       "      <td>0.750000</td>\n",
       "      <td>0.226250</td>\n",
       "      <td>0.182849</td>\n",
       "      <td>0.000000</td>\n",
       "      <td>...</td>\n",
       "      <td>0.0</td>\n",
       "      <td>0.0</td>\n",
       "      <td>0.0</td>\n",
       "      <td>1.0</td>\n",
       "      <td>0.0</td>\n",
       "      <td>0.0</td>\n",
       "      <td>0.0</td>\n",
       "      <td>0.0</td>\n",
       "      <td>1.0</td>\n",
       "      <td>0.0</td>\n",
       "    </tr>\n",
       "    <tr>\n",
       "      <th>413</th>\n",
       "      <td>0.058824</td>\n",
       "      <td>0.119863</td>\n",
       "      <td>0.035804</td>\n",
       "      <td>0.444444</td>\n",
       "      <td>0.625</td>\n",
       "      <td>0.398551</td>\n",
       "      <td>0.000000</td>\n",
       "      <td>0.000000</td>\n",
       "      <td>0.000000</td>\n",
       "      <td>0.000000</td>\n",
       "      <td>...</td>\n",
       "      <td>0.0</td>\n",
       "      <td>0.0</td>\n",
       "      <td>0.0</td>\n",
       "      <td>1.0</td>\n",
       "      <td>0.0</td>\n",
       "      <td>0.0</td>\n",
       "      <td>0.0</td>\n",
       "      <td>0.0</td>\n",
       "      <td>1.0</td>\n",
       "      <td>0.0</td>\n",
       "    </tr>\n",
       "    <tr>\n",
       "      <th>522</th>\n",
       "      <td>0.176471</td>\n",
       "      <td>0.099315</td>\n",
       "      <td>0.017294</td>\n",
       "      <td>0.555556</td>\n",
       "      <td>0.750</td>\n",
       "      <td>0.543478</td>\n",
       "      <td>0.000000</td>\n",
       "      <td>0.000000</td>\n",
       "      <td>0.070695</td>\n",
       "      <td>0.000000</td>\n",
       "      <td>...</td>\n",
       "      <td>0.0</td>\n",
       "      <td>0.0</td>\n",
       "      <td>0.0</td>\n",
       "      <td>1.0</td>\n",
       "      <td>0.0</td>\n",
       "      <td>0.0</td>\n",
       "      <td>0.0</td>\n",
       "      <td>0.0</td>\n",
       "      <td>1.0</td>\n",
       "      <td>0.0</td>\n",
       "    </tr>\n",
       "    <tr>\n",
       "      <th>1036</th>\n",
       "      <td>0.000000</td>\n",
       "      <td>0.232877</td>\n",
       "      <td>0.054210</td>\n",
       "      <td>0.888889</td>\n",
       "      <td>0.500</td>\n",
       "      <td>0.978261</td>\n",
       "      <td>0.966667</td>\n",
       "      <td>0.043750</td>\n",
       "      <td>0.181077</td>\n",
       "      <td>0.000000</td>\n",
       "      <td>...</td>\n",
       "      <td>0.0</td>\n",
       "      <td>0.0</td>\n",
       "      <td>0.0</td>\n",
       "      <td>1.0</td>\n",
       "      <td>0.0</td>\n",
       "      <td>0.0</td>\n",
       "      <td>0.0</td>\n",
       "      <td>0.0</td>\n",
       "      <td>1.0</td>\n",
       "      <td>0.0</td>\n",
       "    </tr>\n",
       "    <tr>\n",
       "      <th>...</th>\n",
       "      <td>...</td>\n",
       "      <td>...</td>\n",
       "      <td>...</td>\n",
       "      <td>...</td>\n",
       "      <td>...</td>\n",
       "      <td>...</td>\n",
       "      <td>...</td>\n",
       "      <td>...</td>\n",
       "      <td>...</td>\n",
       "      <td>...</td>\n",
       "      <td>...</td>\n",
       "      <td>...</td>\n",
       "      <td>...</td>\n",
       "      <td>...</td>\n",
       "      <td>...</td>\n",
       "      <td>...</td>\n",
       "      <td>...</td>\n",
       "      <td>...</td>\n",
       "      <td>...</td>\n",
       "      <td>...</td>\n",
       "      <td>...</td>\n",
       "    </tr>\n",
       "    <tr>\n",
       "      <th>988</th>\n",
       "      <td>0.235294</td>\n",
       "      <td>0.167979</td>\n",
       "      <td>0.050228</td>\n",
       "      <td>0.555556</td>\n",
       "      <td>0.625</td>\n",
       "      <td>0.753623</td>\n",
       "      <td>0.433333</td>\n",
       "      <td>0.186250</td>\n",
       "      <td>0.027640</td>\n",
       "      <td>0.000000</td>\n",
       "      <td>...</td>\n",
       "      <td>0.0</td>\n",
       "      <td>0.0</td>\n",
       "      <td>0.0</td>\n",
       "      <td>1.0</td>\n",
       "      <td>0.0</td>\n",
       "      <td>0.0</td>\n",
       "      <td>0.0</td>\n",
       "      <td>0.0</td>\n",
       "      <td>1.0</td>\n",
       "      <td>0.0</td>\n",
       "    </tr>\n",
       "    <tr>\n",
       "      <th>243</th>\n",
       "      <td>0.823529</td>\n",
       "      <td>0.184932</td>\n",
       "      <td>0.044226</td>\n",
       "      <td>0.555556</td>\n",
       "      <td>0.625</td>\n",
       "      <td>0.782609</td>\n",
       "      <td>0.500000</td>\n",
       "      <td>0.000000</td>\n",
       "      <td>0.000000</td>\n",
       "      <td>0.000000</td>\n",
       "      <td>...</td>\n",
       "      <td>0.0</td>\n",
       "      <td>0.0</td>\n",
       "      <td>0.0</td>\n",
       "      <td>1.0</td>\n",
       "      <td>0.0</td>\n",
       "      <td>0.0</td>\n",
       "      <td>0.0</td>\n",
       "      <td>0.0</td>\n",
       "      <td>1.0</td>\n",
       "      <td>0.0</td>\n",
       "    </tr>\n",
       "    <tr>\n",
       "      <th>1342</th>\n",
       "      <td>0.235294</td>\n",
       "      <td>0.167979</td>\n",
       "      <td>0.037743</td>\n",
       "      <td>0.777778</td>\n",
       "      <td>0.500</td>\n",
       "      <td>0.942029</td>\n",
       "      <td>0.866667</td>\n",
       "      <td>0.093125</td>\n",
       "      <td>0.000000</td>\n",
       "      <td>0.000000</td>\n",
       "      <td>...</td>\n",
       "      <td>0.0</td>\n",
       "      <td>0.0</td>\n",
       "      <td>0.0</td>\n",
       "      <td>1.0</td>\n",
       "      <td>0.0</td>\n",
       "      <td>0.0</td>\n",
       "      <td>0.0</td>\n",
       "      <td>0.0</td>\n",
       "      <td>1.0</td>\n",
       "      <td>0.0</td>\n",
       "    </tr>\n",
       "    <tr>\n",
       "      <th>1057</th>\n",
       "      <td>0.235294</td>\n",
       "      <td>0.167979</td>\n",
       "      <td>0.133955</td>\n",
       "      <td>0.666667</td>\n",
       "      <td>0.625</td>\n",
       "      <td>0.884058</td>\n",
       "      <td>0.733333</td>\n",
       "      <td>0.000000</td>\n",
       "      <td>0.105422</td>\n",
       "      <td>0.000000</td>\n",
       "      <td>...</td>\n",
       "      <td>0.0</td>\n",
       "      <td>0.0</td>\n",
       "      <td>0.0</td>\n",
       "      <td>1.0</td>\n",
       "      <td>0.0</td>\n",
       "      <td>0.0</td>\n",
       "      <td>0.0</td>\n",
       "      <td>0.0</td>\n",
       "      <td>1.0</td>\n",
       "      <td>0.0</td>\n",
       "    </tr>\n",
       "    <tr>\n",
       "      <th>1418</th>\n",
       "      <td>0.000000</td>\n",
       "      <td>0.171233</td>\n",
       "      <td>0.036944</td>\n",
       "      <td>0.444444</td>\n",
       "      <td>0.500</td>\n",
       "      <td>0.659420</td>\n",
       "      <td>0.216667</td>\n",
       "      <td>0.000000</td>\n",
       "      <td>0.004429</td>\n",
       "      <td>0.591588</td>\n",
       "      <td>...</td>\n",
       "      <td>0.0</td>\n",
       "      <td>0.0</td>\n",
       "      <td>0.0</td>\n",
       "      <td>0.0</td>\n",
       "      <td>0.0</td>\n",
       "      <td>0.0</td>\n",
       "      <td>0.0</td>\n",
       "      <td>0.0</td>\n",
       "      <td>1.0</td>\n",
       "      <td>0.0</td>\n",
       "    </tr>\n",
       "  </tbody>\n",
       "</table>\n",
       "<p>365 rows × 304 columns</p>\n",
       "</div>"
      ],
      "text/plain": [
       "      MSSubClass  LotFrontage   LotArea  OverallQual  OverallCond  YearBuilt  \\\n",
       "892     0.000000     0.167808  0.033252     0.555556        0.875   0.659420   \n",
       "1105    0.235294     0.263699  0.051209     0.777778        0.500   0.884058   \n",
       "413     0.058824     0.119863  0.035804     0.444444        0.625   0.398551   \n",
       "522     0.176471     0.099315  0.017294     0.555556        0.750   0.543478   \n",
       "1036    0.000000     0.232877  0.054210     0.888889        0.500   0.978261   \n",
       "...          ...          ...       ...          ...          ...        ...   \n",
       "988     0.235294     0.167979  0.050228     0.555556        0.625   0.753623   \n",
       "243     0.823529     0.184932  0.044226     0.555556        0.625   0.782609   \n",
       "1342    0.235294     0.167979  0.037743     0.777778        0.500   0.942029   \n",
       "1057    0.235294     0.167979  0.133955     0.666667        0.625   0.884058   \n",
       "1418    0.000000     0.171233  0.036944     0.444444        0.500   0.659420   \n",
       "\n",
       "      YearRemodAdd  MasVnrArea  BsmtFinSF1  BsmtFinSF2  ...  SaleType_ConLw  \\\n",
       "892       0.883333    0.000000    0.117470    0.000000  ...             0.0   \n",
       "1105      0.750000    0.226250    0.182849    0.000000  ...             0.0   \n",
       "413       0.000000    0.000000    0.000000    0.000000  ...             0.0   \n",
       "522       0.000000    0.000000    0.070695    0.000000  ...             0.0   \n",
       "1036      0.966667    0.043750    0.181077    0.000000  ...             0.0   \n",
       "...            ...         ...         ...         ...  ...             ...   \n",
       "988       0.433333    0.186250    0.027640    0.000000  ...             0.0   \n",
       "243       0.500000    0.000000    0.000000    0.000000  ...             0.0   \n",
       "1342      0.866667    0.093125    0.000000    0.000000  ...             0.0   \n",
       "1057      0.733333    0.000000    0.105422    0.000000  ...             0.0   \n",
       "1418      0.216667    0.000000    0.004429    0.591588  ...             0.0   \n",
       "\n",
       "      SaleType_New  SaleType_Oth  SaleType_WD  SaleCondition_Abnorml  \\\n",
       "892            0.0           0.0          1.0                    0.0   \n",
       "1105           0.0           0.0          1.0                    0.0   \n",
       "413            0.0           0.0          1.0                    0.0   \n",
       "522            0.0           0.0          1.0                    0.0   \n",
       "1036           0.0           0.0          1.0                    0.0   \n",
       "...            ...           ...          ...                    ...   \n",
       "988            0.0           0.0          1.0                    0.0   \n",
       "243            0.0           0.0          1.0                    0.0   \n",
       "1342           0.0           0.0          1.0                    0.0   \n",
       "1057           0.0           0.0          1.0                    0.0   \n",
       "1418           0.0           0.0          0.0                    0.0   \n",
       "\n",
       "      SaleCondition_AdjLand  SaleCondition_Alloca  SaleCondition_Family  \\\n",
       "892                     0.0                   0.0                   0.0   \n",
       "1105                    0.0                   0.0                   0.0   \n",
       "413                     0.0                   0.0                   0.0   \n",
       "522                     0.0                   0.0                   0.0   \n",
       "1036                    0.0                   0.0                   0.0   \n",
       "...                     ...                   ...                   ...   \n",
       "988                     0.0                   0.0                   0.0   \n",
       "243                     0.0                   0.0                   0.0   \n",
       "1342                    0.0                   0.0                   0.0   \n",
       "1057                    0.0                   0.0                   0.0   \n",
       "1418                    0.0                   0.0                   0.0   \n",
       "\n",
       "      SaleCondition_Normal  SaleCondition_Partial  \n",
       "892                    1.0                    0.0  \n",
       "1105                   1.0                    0.0  \n",
       "413                    1.0                    0.0  \n",
       "522                    1.0                    0.0  \n",
       "1036                   1.0                    0.0  \n",
       "...                    ...                    ...  \n",
       "988                    1.0                    0.0  \n",
       "243                    1.0                    0.0  \n",
       "1342                   1.0                    0.0  \n",
       "1057                   1.0                    0.0  \n",
       "1418                   1.0                    0.0  \n",
       "\n",
       "[365 rows x 304 columns]"
      ]
     },
     "execution_count": 18,
     "metadata": {},
     "output_type": "execute_result"
    }
   ],
   "source": [
    "X_val"
   ]
  },
  {
   "cell_type": "markdown",
   "id": "33b58c91",
   "metadata": {},
   "source": [
    "## Prediction and Evaluation the Model\n",
    "The model is now trained, and we can use it to generate predictions for the training and validation inputs. We can evaluate the model's performance using the RMSE (root mean squared error) loss function."
   ]
  },
  {
   "cell_type": "code",
   "execution_count": 19,
   "id": "6de2a7fd",
   "metadata": {},
   "outputs": [],
   "source": [
    "from sklearn.metrics import mean_squared_error"
   ]
  },
  {
   "cell_type": "code",
   "execution_count": 20,
   "id": "d3d98b33",
   "metadata": {},
   "outputs": [],
   "source": [
    "tree_train_preds = tree.predict(X_train)"
   ]
  },
  {
   "cell_type": "code",
   "execution_count": 21,
   "id": "3a69de98",
   "metadata": {},
   "outputs": [
    {
     "data": {
      "text/plain": [
       "28571.711106929328"
      ]
     },
     "execution_count": 21,
     "metadata": {},
     "output_type": "execute_result"
    }
   ],
   "source": [
    "tree_train_rmse = mean_squared_error(train_targets, tree_train_preds, squared=False)\n",
    "tree_train_rmse"
   ]
  },
  {
   "cell_type": "code",
   "execution_count": 22,
   "id": "7091525f",
   "metadata": {},
   "outputs": [],
   "source": [
    "tree_val_preds = tree.predict(X_val)"
   ]
  },
  {
   "cell_type": "code",
   "execution_count": 23,
   "id": "d0da1efc",
   "metadata": {},
   "outputs": [
    {
     "data": {
      "text/plain": [
       "37523.84282519604"
      ]
     },
     "execution_count": 23,
     "metadata": {},
     "output_type": "execute_result"
    }
   ],
   "source": [
    "tree_val_rmse = mean_squared_error(val_targets, tree_val_preds, squared=False) \n",
    "tree_val_rmse"
   ]
  },
  {
   "cell_type": "code",
   "execution_count": 24,
   "id": "7de74c7d",
   "metadata": {},
   "outputs": [
    {
     "name": "stdout",
     "output_type": "stream",
     "text": [
      "Train RMSE: 28571.711106929328, Validation RMSE: 37523.84282519604\n"
     ]
    }
   ],
   "source": [
    "print('Train RMSE: {}, Validation RMSE: {}'.format(tree_train_rmse, tree_val_rmse))"
   ]
  },
  {
   "cell_type": "markdown",
   "id": "2726d238",
   "metadata": {},
   "source": [
    "## Visualization"
   ]
  },
  {
   "cell_type": "code",
   "execution_count": 25,
   "id": "4fcdc435",
   "metadata": {},
   "outputs": [],
   "source": [
    "from sklearn.tree import plot_tree, export_text"
   ]
  },
  {
   "cell_type": "code",
   "execution_count": 26,
   "id": "9d45e398",
   "metadata": {},
   "outputs": [
    {
     "data": {
      "image/png": "[encoded data removed]",
      "text/plain": [
       "<Figure size 2160x1080 with 1 Axes>"
      ]
     },
     "metadata": {
      "needs_background": "light"
     },
     "output_type": "display_data"
    }
   ],
   "source": [
    "plt.figure(figsize=(30,15))\n",
    "\n",
    "plot_tree(tree, feature_names=X_train.columns, max_depth=3, filled=True); "
   ]
  },
  {
   "cell_type": "code",
   "execution_count": 27,
   "id": "7a08ad94",
   "metadata": {},
   "outputs": [
    {
     "name": "stdout",
     "output_type": "stream",
     "text": [
      "|--- OverallQual <= 0.72\n",
      "|   |--- OverallQual <= 0.61\n",
      "|   |   |--- GrLivArea <= 0.20\n",
      "|   |   |   |--- TotalBsmtSF <= 0.16\n",
      "|   |   |   |   |--- truncated branch of depth 2\n",
      "|   |   |   |--- TotalBsmtSF >  0.16\n",
      "|   |   |   |   |--- truncated branch of depth 2\n",
      "|   |   |--- GrLivArea >  0.20\n",
      "|   |   |   |--- BsmtFinSF1 <= 0.04\n",
      "|   |   |   |   |--- truncated branch of depth 2\n",
      "|   |   |   |--- BsmtFinSF1 >  0.04\n",
      "|   |   |   |   |--- truncated branch of depth 2\n",
      "|   |--- OverallQual >  0.61\n",
      "|   |   |--- GrLivArea <= 0.32\n",
      "|   |   |   |--- GarageType_Detchd <= 0.50\n",
      "|   |   |   |   |--- truncated branch of depth 2\n",
      "|   |   |   |--- GarageType_Detchd >  0.50\n",
      "|   |   |   |   |--- truncated branch of depth 2\n",
      "|   |   |--- GrLivArea >  0.32\n",
      "|   |   |   |--- TotalBsmtSF <= 0.19\n",
      "|   |   |   |   |--- truncated branch of depth 2\n",
      "|   |   |   |--- TotalBsmtSF >  0.19\n",
      "|   |   |   |   |--- truncated branch of depth 2\n",
      "|--- OverallQual >  0.72\n",
      "|   |--- OverallQual <= 0.83\n",
      "|   |   |--- GrLivArea <= 0.31\n",
      "|   |   |   |--- BsmtFinSF1 <= 0.17\n",
      "|   |   |   |   |--- truncated branch of depth 2\n",
      "|   |   |   |--- BsmtFinSF1 >  0.17\n",
      "|   |   |   |   |--- truncated branch of depth 2\n",
      "|   |   |--- GrLivArea >  0.31\n",
      "|   |   |   |--- 1stFlrSF <= 0.26\n",
      "|   |   |   |   |--- truncated branch of depth 2\n",
      "|   |   |   |--- 1stFlrSF >  0.26\n",
      "|   |   |   |   |--- truncated branch of depth 2\n",
      "|   |--- OverallQual >  0.83\n",
      "|   |   |--- 2ndFlrSF <= 0.81\n",
      "|   |   |   |--- LotFrontage <= 0.33\n",
      "|   |   |   |   |--- truncated branch of depth 2\n",
      "|   |   |   |--- LotFrontage >  0.33\n",
      "|   |   |   |   |--- truncated branch of depth 2\n",
      "|   |   |--- 2ndFlrSF >  0.81\n",
      "|   |   |   |--- LotArea <= 0.11\n",
      "|   |   |   |   |--- value: [745000.00]\n",
      "|   |   |   |--- LotArea >  0.11\n",
      "|   |   |   |   |--- value: [625000.00]\n",
      "\n"
     ]
    }
   ],
   "source": [
    "tree_text = export_text(tree, max_depth=3, feature_names=list(X_train.columns))\n",
    "print(tree_text[:2000])"
   ]
  },
  {
   "cell_type": "code",
   "execution_count": 28,
   "id": "075a90ad",
   "metadata": {},
   "outputs": [],
   "source": [
    "# Check feature importance\n",
    "tree_importances = tree.feature_importances_"
   ]
  },
  {
   "cell_type": "code",
   "execution_count": 29,
   "id": "fb5e3960",
   "metadata": {},
   "outputs": [],
   "source": [
    "tree_importance_df = pd.DataFrame({\n",
    "    'feature': train_inputs.columns,\n",
    "    'importance': tree_importances\n",
    "}).sort_values('importance', ascending=False)"
   ]
  },
  {
   "cell_type": "code",
   "execution_count": 30,
   "id": "0b0728db",
   "metadata": {},
   "outputs": [
    {
     "data": {
      "text/html": [
       "<div>\n",
       "<style scoped>\n",
       "    .dataframe tbody tr th:only-of-type {\n",
       "        vertical-align: middle;\n",
       "    }\n",
       "\n",
       "    .dataframe tbody tr th {\n",
       "        vertical-align: top;\n",
       "    }\n",
       "\n",
       "    .dataframe thead th {\n",
       "        text-align: right;\n",
       "    }\n",
       "</style>\n",
       "<table border=\"1\" class=\"dataframe\">\n",
       "  <thead>\n",
       "    <tr style=\"text-align: right;\">\n",
       "      <th></th>\n",
       "      <th>feature</th>\n",
       "      <th>importance</th>\n",
       "    </tr>\n",
       "  </thead>\n",
       "  <tbody>\n",
       "    <tr>\n",
       "      <th>3</th>\n",
       "      <td>OverallQual</td>\n",
       "      <td>0.730496</td>\n",
       "    </tr>\n",
       "    <tr>\n",
       "      <th>15</th>\n",
       "      <td>GrLivArea</td>\n",
       "      <td>0.106793</td>\n",
       "    </tr>\n",
       "    <tr>\n",
       "      <th>13</th>\n",
       "      <td>2ndFlrSF</td>\n",
       "      <td>0.033998</td>\n",
       "    </tr>\n",
       "    <tr>\n",
       "      <th>8</th>\n",
       "      <td>BsmtFinSF1</td>\n",
       "      <td>0.024650</td>\n",
       "    </tr>\n",
       "    <tr>\n",
       "      <th>11</th>\n",
       "      <td>TotalBsmtSF</td>\n",
       "      <td>0.022917</td>\n",
       "    </tr>\n",
       "  </tbody>\n",
       "</table>\n",
       "</div>"
      ],
      "text/plain": [
       "        feature  importance\n",
       "3   OverallQual    0.730496\n",
       "15    GrLivArea    0.106793\n",
       "13     2ndFlrSF    0.033998\n",
       "8    BsmtFinSF1    0.024650\n",
       "11  TotalBsmtSF    0.022917"
      ]
     },
     "execution_count": 30,
     "metadata": {},
     "output_type": "execute_result"
    }
   ],
   "source": [
    "tree_importance_df.head()"
   ]
  },
  {
   "cell_type": "code",
   "execution_count": 31,
   "id": "f40a5055",
   "metadata": {},
   "outputs": [
    {
     "data": {
      "image/png": "[encoded data removed]",
      "text/plain": [
       "<Figure size 720x432 with 1 Axes>"
      ]
     },
     "metadata": {
      "needs_background": "light"
     },
     "output_type": "display_data"
    }
   ],
   "source": [
    "plt.title('Feature Importance')\n",
    "sns.barplot(data=tree_importance_df.head(10), x='importance', y='feature');"
   ]
  },
  {
   "cell_type": "markdown",
   "id": "e22a7d3a",
   "metadata": {},
   "source": [
    "## Random Forests\n",
    "Train a random forest regressor using the training set."
   ]
  },
  {
   "cell_type": "code",
   "execution_count": 32,
   "id": "474809c0",
   "metadata": {},
   "outputs": [],
   "source": [
    "# Combining the results of many models by \"sklearn.ensemble\"\n",
    "from sklearn.ensemble import RandomForestRegressor"
   ]
  },
  {
   "cell_type": "code",
   "execution_count": 33,
   "id": "d87a3ba2",
   "metadata": {},
   "outputs": [],
   "source": [
    "# Create the model\n",
    "rf1 = RandomForestRegressor(max_depth = 5, n_jobs=-1, random_state=42)"
   ]
  },
  {
   "cell_type": "code",
   "execution_count": 34,
   "id": "49640611",
   "metadata": {},
   "outputs": [
    {
     "data": {
      "text/plain": [
       "RandomForestRegressor(max_depth=5, n_jobs=-1, random_state=42)"
      ]
     },
     "execution_count": 34,
     "metadata": {},
     "output_type": "execute_result"
    }
   ],
   "source": [
    "#Fit the model\n",
    "rf1.fit(X_train, train_targets)"
   ]
  },
  {
   "cell_type": "code",
   "execution_count": 35,
   "id": "281bb6f3",
   "metadata": {},
   "outputs": [],
   "source": [
    "X_train = train_inputs[numeric_cols + encoded_cols]\n",
    "X_val = val_inputs[numeric_cols + encoded_cols]"
   ]
  },
  {
   "cell_type": "markdown",
   "id": "ccbdba50",
   "metadata": {},
   "source": [
    "Make predictions using the random forest regressor."
   ]
  },
  {
   "cell_type": "code",
   "execution_count": 36,
   "id": "11795e84",
   "metadata": {},
   "outputs": [],
   "source": [
    "rf1_train_preds = rf1.predict(X_train)"
   ]
  },
  {
   "cell_type": "code",
   "execution_count": 37,
   "id": "8a331b42",
   "metadata": {},
   "outputs": [],
   "source": [
    "rf1_train_rmse = mean_squared_error(train_targets, rf1_train_preds, squared=False)"
   ]
  },
  {
   "cell_type": "code",
   "execution_count": 38,
   "id": "1392945e",
   "metadata": {},
   "outputs": [],
   "source": [
    "rf1_val_preds = rf1.predict(X_val)"
   ]
  },
  {
   "cell_type": "code",
   "execution_count": 39,
   "id": "d6e94dd0",
   "metadata": {},
   "outputs": [],
   "source": [
    "rf1_val_rmse = mean_squared_error(val_targets, rf1_val_preds, squared=False) "
   ]
  },
  {
   "cell_type": "code",
   "execution_count": 40,
   "id": "50508556",
   "metadata": {},
   "outputs": [
    {
     "name": "stdout",
     "output_type": "stream",
     "text": [
      "Train RMSE: 23569.491934834154, Validation RMSE: 31194.22696704331\n"
     ]
    }
   ],
   "source": [
    "print('Train RMSE: {}, Validation RMSE: {}'.format(rf1_train_rmse, rf1_val_rmse))"
   ]
  },
  {
   "cell_type": "markdown",
   "id": "fc73c709",
   "metadata": {},
   "source": [
    "## Hyperparameter Tuning"
   ]
  },
  {
   "cell_type": "code",
   "execution_count": 41,
   "id": "1e9d3a47",
   "metadata": {},
   "outputs": [],
   "source": [
    "# define a helper function test_params which can test the given value of one or more hyperparameters.\n",
    "def test_params(**params):\n",
    "    model = RandomForestRegressor(random_state=42, n_jobs=-1, **params).fit(train_inputs, train_targets)\n",
    "    train_rmse = mean_squared_error(model.predict(train_inputs), train_targets, squared=False)\n",
    "    val_rmse = mean_squared_error(model.predict(val_inputs), val_targets, squared=False)\n",
    "    return train_rmse, val_rmse"
   ]
  },
  {
   "cell_type": "code",
   "execution_count": 42,
   "id": "bab11668",
   "metadata": {},
   "outputs": [
    {
     "data": {
      "text/plain": [
       "(13776.89957127333, 28886.033523273858)"
      ]
     },
     "execution_count": 42,
     "metadata": {},
     "output_type": "execute_result"
    }
   ],
   "source": [
    "test_params(n_estimators=20, max_depth=20)"
   ]
  },
  {
   "cell_type": "code",
   "execution_count": 43,
   "id": "b476f0a0",
   "metadata": {},
   "outputs": [
    {
     "data": {
      "text/plain": [
       "(21669.16504950044, 29829.816545241363)"
      ]
     },
     "execution_count": 43,
     "metadata": {},
     "output_type": "execute_result"
    }
   ],
   "source": [
    "test_params(max_leaf_nodes=2**5)"
   ]
  },
  {
   "cell_type": "code",
   "execution_count": 44,
   "id": "1f18e877",
   "metadata": {},
   "outputs": [
    {
     "data": {
      "text/plain": [
       "(12612.399478855235, 33432.16877976972)"
      ]
     },
     "execution_count": 44,
     "metadata": {},
     "output_type": "execute_result"
    }
   ],
   "source": [
    "test_params(max_features='log2')"
   ]
  },
  {
   "cell_type": "code",
   "execution_count": 45,
   "id": "bf8114f4",
   "metadata": {},
   "outputs": [
    {
     "data": {
      "text/plain": [
       "(11864.318299877767, 27830.03863639856)"
      ]
     },
     "execution_count": 45,
     "metadata": {},
     "output_type": "execute_result"
    }
   ],
   "source": [
    "test_params(max_features= 'auto')"
   ]
  },
  {
   "cell_type": "code",
   "execution_count": 46,
   "id": "137810b4",
   "metadata": {},
   "outputs": [
    {
     "data": {
      "text/plain": [
       "(14373.984888716623, 27374.194811726316)"
      ]
     },
     "execution_count": 46,
     "metadata": {},
     "output_type": "execute_result"
    }
   ],
   "source": [
    "test_params(min_samples_split=3, min_samples_leaf=2)"
   ]
  },
  {
   "cell_type": "code",
   "execution_count": 47,
   "id": "ce41f0f6",
   "metadata": {},
   "outputs": [
    {
     "data": {
      "text/plain": [
       "(11864.318299877767, 27830.03863639856)"
      ]
     },
     "execution_count": 47,
     "metadata": {},
     "output_type": "execute_result"
    }
   ],
   "source": [
    "test_params(bootstrap=True) "
   ]
  },
  {
   "cell_type": "code",
   "execution_count": 48,
   "id": "02b903f9",
   "metadata": {},
   "outputs": [
    {
     "data": {
      "text/plain": [
       "(42012.26656816848, 46564.72151201419)"
      ]
     },
     "execution_count": 48,
     "metadata": {},
     "output_type": "execute_result"
    }
   ],
   "source": [
    "# reducing power of tree\n",
    "test_params(min_samples_split=100, min_samples_leaf=60)"
   ]
  },
  {
   "cell_type": "code",
   "execution_count": 49,
   "id": "1f55a386",
   "metadata": {},
   "outputs": [
    {
     "data": {
      "text/plain": [
       "(11864.318299877767, 27830.03863639856)"
      ]
     },
     "execution_count": 49,
     "metadata": {},
     "output_type": "execute_result"
    }
   ],
   "source": [
    "#min_impurity_decrease to control the threshold for splitting nodes. \n",
    "test_params(min_impurity_decrease=1e-2)"
   ]
  },
  {
   "cell_type": "code",
   "execution_count": 50,
   "id": "78ce5ba8",
   "metadata": {},
   "outputs": [
    {
     "data": {
      "text/plain": [
       "(20490.359632429263, 29804.931642791606)"
      ]
     },
     "execution_count": 50,
     "metadata": {},
     "output_type": "execute_result"
    }
   ],
   "source": [
    "test_params(n_estimators=50, max_depth=10, min_samples_leaf=4, max_features=0.4)"
   ]
  },
  {
   "cell_type": "code",
   "execution_count": 51,
   "id": "79e67157",
   "metadata": {},
   "outputs": [],
   "source": [
    "# define a helper function to test and plot different values of a single parameter.\n",
    "def test_param_and_plot(param_name, param_values):\n",
    "    train_errors, val_errors = [], [] \n",
    "    for value in param_values:\n",
    "        params = {param_name: value}\n",
    "        train_rmse, val_rmse = test_params(**params)\n",
    "        train_errors.append(train_rmse)\n",
    "        val_errors.append(val_rmse)\n",
    "    plt.figure(figsize=(10,6))\n",
    "    plt.title('Overfitting curve: ' + param_name)\n",
    "    plt.plot(param_values, train_errors, 'b-o')\n",
    "    plt.plot(param_values, val_errors, 'r-o')\n",
    "    plt.xlabel(param_name)\n",
    "    plt.ylabel('RMSE')\n",
    "    plt.legend(['Training', 'Validation'])"
   ]
  },
  {
   "cell_type": "code",
   "execution_count": 52,
   "id": "212461b4",
   "metadata": {
    "scrolled": true
   },
   "outputs": [
    {
     "data": {
      "image/png": "[encoded data removed]",
      "text/plain": [
       "<Figure size 720x432 with 1 Axes>"
      ]
     },
     "metadata": {
      "needs_background": "light"
     },
     "output_type": "display_data"
    }
   ],
   "source": [
    "test_param_and_plot('max_depth', [5, 10, 15, 20, 25, 30, 35])"
   ]
  },
  {
   "cell_type": "markdown",
   "id": "5b4003db",
   "metadata": {},
   "source": [
    "From the above graph, it appears that the best value for max_depth is around 20, beyond which the model starts to overfit."
   ]
  },
  {
   "cell_type": "markdown",
   "id": "aba3cce4",
   "metadata": {},
   "source": [
    "## Making Predictions on the Test Set\n",
    "Make predictions on the test set provided with the data."
   ]
  },
  {
   "cell_type": "code",
   "execution_count": 53,
   "id": "c7eee728",
   "metadata": {},
   "outputs": [],
   "source": [
    "test_df = pd.read_csv('test.csv')"
   ]
  },
  {
   "cell_type": "code",
   "execution_count": 54,
   "id": "4c204ee1",
   "metadata": {},
   "outputs": [
    {
     "data": {
      "text/html": [
       "<div>\n",
       "<style scoped>\n",
       "    .dataframe tbody tr th:only-of-type {\n",
       "        vertical-align: middle;\n",
       "    }\n",
       "\n",
       "    .dataframe tbody tr th {\n",
       "        vertical-align: top;\n",
       "    }\n",
       "\n",
       "    .dataframe thead th {\n",
       "        text-align: right;\n",
       "    }\n",
       "</style>\n",
       "<table border=\"1\" class=\"dataframe\">\n",
       "  <thead>\n",
       "    <tr style=\"text-align: right;\">\n",
       "      <th></th>\n",
       "      <th>Id</th>\n",
       "      <th>MSSubClass</th>\n",
       "      <th>MSZoning</th>\n",
       "      <th>LotFrontage</th>\n",
       "      <th>LotArea</th>\n",
       "      <th>Street</th>\n",
       "      <th>Alley</th>\n",
       "      <th>LotShape</th>\n",
       "      <th>LandContour</th>\n",
       "      <th>Utilities</th>\n",
       "      <th>...</th>\n",
       "      <th>ScreenPorch</th>\n",
       "      <th>PoolArea</th>\n",
       "      <th>PoolQC</th>\n",
       "      <th>Fence</th>\n",
       "      <th>MiscFeature</th>\n",
       "      <th>MiscVal</th>\n",
       "      <th>MoSold</th>\n",
       "      <th>YrSold</th>\n",
       "      <th>SaleType</th>\n",
       "      <th>SaleCondition</th>\n",
       "    </tr>\n",
       "  </thead>\n",
       "  <tbody>\n",
       "    <tr>\n",
       "      <th>0</th>\n",
       "      <td>1461</td>\n",
       "      <td>20</td>\n",
       "      <td>RH</td>\n",
       "      <td>80.0</td>\n",
       "      <td>11622</td>\n",
       "      <td>Pave</td>\n",
       "      <td>NaN</td>\n",
       "      <td>Reg</td>\n",
       "      <td>Lvl</td>\n",
       "      <td>AllPub</td>\n",
       "      <td>...</td>\n",
       "      <td>120</td>\n",
       "      <td>0</td>\n",
       "      <td>NaN</td>\n",
       "      <td>MnPrv</td>\n",
       "      <td>NaN</td>\n",
       "      <td>0</td>\n",
       "      <td>6</td>\n",
       "      <td>2010</td>\n",
       "      <td>WD</td>\n",
       "      <td>Normal</td>\n",
       "    </tr>\n",
       "    <tr>\n",
       "      <th>1</th>\n",
       "      <td>1462</td>\n",
       "      <td>20</td>\n",
       "      <td>RL</td>\n",
       "      <td>81.0</td>\n",
       "      <td>14267</td>\n",
       "      <td>Pave</td>\n",
       "      <td>NaN</td>\n",
       "      <td>IR1</td>\n",
       "      <td>Lvl</td>\n",
       "      <td>AllPub</td>\n",
       "      <td>...</td>\n",
       "      <td>0</td>\n",
       "      <td>0</td>\n",
       "      <td>NaN</td>\n",
       "      <td>NaN</td>\n",
       "      <td>Gar2</td>\n",
       "      <td>12500</td>\n",
       "      <td>6</td>\n",
       "      <td>2010</td>\n",
       "      <td>WD</td>\n",
       "      <td>Normal</td>\n",
       "    </tr>\n",
       "    <tr>\n",
       "      <th>2</th>\n",
       "      <td>1463</td>\n",
       "      <td>60</td>\n",
       "      <td>RL</td>\n",
       "      <td>74.0</td>\n",
       "      <td>13830</td>\n",
       "      <td>Pave</td>\n",
       "      <td>NaN</td>\n",
       "      <td>IR1</td>\n",
       "      <td>Lvl</td>\n",
       "      <td>AllPub</td>\n",
       "      <td>...</td>\n",
       "      <td>0</td>\n",
       "      <td>0</td>\n",
       "      <td>NaN</td>\n",
       "      <td>MnPrv</td>\n",
       "      <td>NaN</td>\n",
       "      <td>0</td>\n",
       "      <td>3</td>\n",
       "      <td>2010</td>\n",
       "      <td>WD</td>\n",
       "      <td>Normal</td>\n",
       "    </tr>\n",
       "    <tr>\n",
       "      <th>3</th>\n",
       "      <td>1464</td>\n",
       "      <td>60</td>\n",
       "      <td>RL</td>\n",
       "      <td>78.0</td>\n",
       "      <td>9978</td>\n",
       "      <td>Pave</td>\n",
       "      <td>NaN</td>\n",
       "      <td>IR1</td>\n",
       "      <td>Lvl</td>\n",
       "      <td>AllPub</td>\n",
       "      <td>...</td>\n",
       "      <td>0</td>\n",
       "      <td>0</td>\n",
       "      <td>NaN</td>\n",
       "      <td>NaN</td>\n",
       "      <td>NaN</td>\n",
       "      <td>0</td>\n",
       "      <td>6</td>\n",
       "      <td>2010</td>\n",
       "      <td>WD</td>\n",
       "      <td>Normal</td>\n",
       "    </tr>\n",
       "    <tr>\n",
       "      <th>4</th>\n",
       "      <td>1465</td>\n",
       "      <td>120</td>\n",
       "      <td>RL</td>\n",
       "      <td>43.0</td>\n",
       "      <td>5005</td>\n",
       "      <td>Pave</td>\n",
       "      <td>NaN</td>\n",
       "      <td>IR1</td>\n",
       "      <td>HLS</td>\n",
       "      <td>AllPub</td>\n",
       "      <td>...</td>\n",
       "      <td>144</td>\n",
       "      <td>0</td>\n",
       "      <td>NaN</td>\n",
       "      <td>NaN</td>\n",
       "      <td>NaN</td>\n",
       "      <td>0</td>\n",
       "      <td>1</td>\n",
       "      <td>2010</td>\n",
       "      <td>WD</td>\n",
       "      <td>Normal</td>\n",
       "    </tr>\n",
       "    <tr>\n",
       "      <th>...</th>\n",
       "      <td>...</td>\n",
       "      <td>...</td>\n",
       "      <td>...</td>\n",
       "      <td>...</td>\n",
       "      <td>...</td>\n",
       "      <td>...</td>\n",
       "      <td>...</td>\n",
       "      <td>...</td>\n",
       "      <td>...</td>\n",
       "      <td>...</td>\n",
       "      <td>...</td>\n",
       "      <td>...</td>\n",
       "      <td>...</td>\n",
       "      <td>...</td>\n",
       "      <td>...</td>\n",
       "      <td>...</td>\n",
       "      <td>...</td>\n",
       "      <td>...</td>\n",
       "      <td>...</td>\n",
       "      <td>...</td>\n",
       "      <td>...</td>\n",
       "    </tr>\n",
       "    <tr>\n",
       "      <th>1454</th>\n",
       "      <td>2915</td>\n",
       "      <td>160</td>\n",
       "      <td>RM</td>\n",
       "      <td>21.0</td>\n",
       "      <td>1936</td>\n",
       "      <td>Pave</td>\n",
       "      <td>NaN</td>\n",
       "      <td>Reg</td>\n",
       "      <td>Lvl</td>\n",
       "      <td>AllPub</td>\n",
       "      <td>...</td>\n",
       "      <td>0</td>\n",
       "      <td>0</td>\n",
       "      <td>NaN</td>\n",
       "      <td>NaN</td>\n",
       "      <td>NaN</td>\n",
       "      <td>0</td>\n",
       "      <td>6</td>\n",
       "      <td>2006</td>\n",
       "      <td>WD</td>\n",
       "      <td>Normal</td>\n",
       "    </tr>\n",
       "    <tr>\n",
       "      <th>1455</th>\n",
       "      <td>2916</td>\n",
       "      <td>160</td>\n",
       "      <td>RM</td>\n",
       "      <td>21.0</td>\n",
       "      <td>1894</td>\n",
       "      <td>Pave</td>\n",
       "      <td>NaN</td>\n",
       "      <td>Reg</td>\n",
       "      <td>Lvl</td>\n",
       "      <td>AllPub</td>\n",
       "      <td>...</td>\n",
       "      <td>0</td>\n",
       "      <td>0</td>\n",
       "      <td>NaN</td>\n",
       "      <td>NaN</td>\n",
       "      <td>NaN</td>\n",
       "      <td>0</td>\n",
       "      <td>4</td>\n",
       "      <td>2006</td>\n",
       "      <td>WD</td>\n",
       "      <td>Abnorml</td>\n",
       "    </tr>\n",
       "    <tr>\n",
       "      <th>1456</th>\n",
       "      <td>2917</td>\n",
       "      <td>20</td>\n",
       "      <td>RL</td>\n",
       "      <td>160.0</td>\n",
       "      <td>20000</td>\n",
       "      <td>Pave</td>\n",
       "      <td>NaN</td>\n",
       "      <td>Reg</td>\n",
       "      <td>Lvl</td>\n",
       "      <td>AllPub</td>\n",
       "      <td>...</td>\n",
       "      <td>0</td>\n",
       "      <td>0</td>\n",
       "      <td>NaN</td>\n",
       "      <td>NaN</td>\n",
       "      <td>NaN</td>\n",
       "      <td>0</td>\n",
       "      <td>9</td>\n",
       "      <td>2006</td>\n",
       "      <td>WD</td>\n",
       "      <td>Abnorml</td>\n",
       "    </tr>\n",
       "    <tr>\n",
       "      <th>1457</th>\n",
       "      <td>2918</td>\n",
       "      <td>85</td>\n",
       "      <td>RL</td>\n",
       "      <td>62.0</td>\n",
       "      <td>10441</td>\n",
       "      <td>Pave</td>\n",
       "      <td>NaN</td>\n",
       "      <td>Reg</td>\n",
       "      <td>Lvl</td>\n",
       "      <td>AllPub</td>\n",
       "      <td>...</td>\n",
       "      <td>0</td>\n",
       "      <td>0</td>\n",
       "      <td>NaN</td>\n",
       "      <td>MnPrv</td>\n",
       "      <td>Shed</td>\n",
       "      <td>700</td>\n",
       "      <td>7</td>\n",
       "      <td>2006</td>\n",
       "      <td>WD</td>\n",
       "      <td>Normal</td>\n",
       "    </tr>\n",
       "    <tr>\n",
       "      <th>1458</th>\n",
       "      <td>2919</td>\n",
       "      <td>60</td>\n",
       "      <td>RL</td>\n",
       "      <td>74.0</td>\n",
       "      <td>9627</td>\n",
       "      <td>Pave</td>\n",
       "      <td>NaN</td>\n",
       "      <td>Reg</td>\n",
       "      <td>Lvl</td>\n",
       "      <td>AllPub</td>\n",
       "      <td>...</td>\n",
       "      <td>0</td>\n",
       "      <td>0</td>\n",
       "      <td>NaN</td>\n",
       "      <td>NaN</td>\n",
       "      <td>NaN</td>\n",
       "      <td>0</td>\n",
       "      <td>11</td>\n",
       "      <td>2006</td>\n",
       "      <td>WD</td>\n",
       "      <td>Normal</td>\n",
       "    </tr>\n",
       "  </tbody>\n",
       "</table>\n",
       "<p>1459 rows × 80 columns</p>\n",
       "</div>"
      ],
      "text/plain": [
       "        Id  MSSubClass MSZoning  LotFrontage  LotArea Street Alley LotShape  \\\n",
       "0     1461          20       RH         80.0    11622   Pave   NaN      Reg   \n",
       "1     1462          20       RL         81.0    14267   Pave   NaN      IR1   \n",
       "2     1463          60       RL         74.0    13830   Pave   NaN      IR1   \n",
       "3     1464          60       RL         78.0     9978   Pave   NaN      IR1   \n",
       "4     1465         120       RL         43.0     5005   Pave   NaN      IR1   \n",
       "...    ...         ...      ...          ...      ...    ...   ...      ...   \n",
       "1454  2915         160       RM         21.0     1936   Pave   NaN      Reg   \n",
       "1455  2916         160       RM         21.0     1894   Pave   NaN      Reg   \n",
       "1456  2917          20       RL        160.0    20000   Pave   NaN      Reg   \n",
       "1457  2918          85       RL         62.0    10441   Pave   NaN      Reg   \n",
       "1458  2919          60       RL         74.0     9627   Pave   NaN      Reg   \n",
       "\n",
       "     LandContour Utilities  ... ScreenPorch PoolArea PoolQC  Fence  \\\n",
       "0            Lvl    AllPub  ...         120        0    NaN  MnPrv   \n",
       "1            Lvl    AllPub  ...           0        0    NaN    NaN   \n",
       "2            Lvl    AllPub  ...           0        0    NaN  MnPrv   \n",
       "3            Lvl    AllPub  ...           0        0    NaN    NaN   \n",
       "4            HLS    AllPub  ...         144        0    NaN    NaN   \n",
       "...          ...       ...  ...         ...      ...    ...    ...   \n",
       "1454         Lvl    AllPub  ...           0        0    NaN    NaN   \n",
       "1455         Lvl    AllPub  ...           0        0    NaN    NaN   \n",
       "1456         Lvl    AllPub  ...           0        0    NaN    NaN   \n",
       "1457         Lvl    AllPub  ...           0        0    NaN  MnPrv   \n",
       "1458         Lvl    AllPub  ...           0        0    NaN    NaN   \n",
       "\n",
       "     MiscFeature MiscVal MoSold  YrSold  SaleType  SaleCondition  \n",
       "0            NaN       0      6    2010        WD         Normal  \n",
       "1           Gar2   12500      6    2010        WD         Normal  \n",
       "2            NaN       0      3    2010        WD         Normal  \n",
       "3            NaN       0      6    2010        WD         Normal  \n",
       "4            NaN       0      1    2010        WD         Normal  \n",
       "...          ...     ...    ...     ...       ...            ...  \n",
       "1454         NaN       0      6    2006        WD         Normal  \n",
       "1455         NaN       0      4    2006        WD        Abnorml  \n",
       "1456         NaN       0      9    2006        WD        Abnorml  \n",
       "1457        Shed     700      7    2006        WD         Normal  \n",
       "1458         NaN       0     11    2006        WD         Normal  \n",
       "\n",
       "[1459 rows x 80 columns]"
      ]
     },
     "execution_count": 54,
     "metadata": {},
     "output_type": "execute_result"
    }
   ],
   "source": [
    "test_df"
   ]
  },
  {
   "cell_type": "code",
   "execution_count": 55,
   "id": "2109c746",
   "metadata": {},
   "outputs": [
    {
     "name": "stderr",
     "output_type": "stream",
     "text": [
      "C:\\Users\\bdarv\\anaconda3\\lib\\site-packages\\pandas\\core\\frame.py:3678: PerformanceWarning: DataFrame is highly fragmented.  This is usually the result of calling `frame.insert` many times, which has poor performance.  Consider joining all columns at once using pd.concat(axis=1) instead.  To get a de-fragmented frame, use `newframe = frame.copy()`\n",
      "  self[col] = igetitem(value, i)\n"
     ]
    }
   ],
   "source": [
    "# reapply all the preprocessing steps.\n",
    "test_df[numeric_cols] = imputer.transform(test_df[numeric_cols])\n",
    "test_df[numeric_cols] = scaler.transform(test_df[numeric_cols])\n",
    "test_df[encoded_cols] = encoder.transform(test_df[categorical_cols])"
   ]
  },
  {
   "cell_type": "code",
   "execution_count": 56,
   "id": "c4ca5599",
   "metadata": {},
   "outputs": [],
   "source": [
    "test_inputs = test_df[numeric_cols + encoded_cols]"
   ]
  },
  {
   "cell_type": "markdown",
   "id": "28a276c7",
   "metadata": {},
   "source": [
    "make predictions using our final model."
   ]
  },
  {
   "cell_type": "code",
   "execution_count": 57,
   "id": "a12aecf9",
   "metadata": {},
   "outputs": [],
   "source": [
    "test_preds = rf1.predict(test_inputs)"
   ]
  },
  {
   "cell_type": "code",
   "execution_count": 58,
   "id": "32b8f1ec",
   "metadata": {},
   "outputs": [
    {
     "data": {
      "text/plain": [
       "array([123174.15373233, 147625.45030759, 172876.39540099, ...,\n",
       "       151960.47389416, 123394.44518226, 217071.25098467])"
      ]
     },
     "execution_count": 58,
     "metadata": {},
     "output_type": "execute_result"
    }
   ],
   "source": [
    "test_preds"
   ]
  },
  {
   "cell_type": "code",
   "execution_count": 59,
   "id": "ba762f3f",
   "metadata": {},
   "outputs": [],
   "source": [
    "submission_df = pd.read_csv('sample_submission.csv')"
   ]
  },
  {
   "cell_type": "code",
   "execution_count": 60,
   "id": "bf6b4d8e",
   "metadata": {},
   "outputs": [
    {
     "data": {
      "text/html": [
       "<div>\n",
       "<style scoped>\n",
       "    .dataframe tbody tr th:only-of-type {\n",
       "        vertical-align: middle;\n",
       "    }\n",
       "\n",
       "    .dataframe tbody tr th {\n",
       "        vertical-align: top;\n",
       "    }\n",
       "\n",
       "    .dataframe thead th {\n",
       "        text-align: right;\n",
       "    }\n",
       "</style>\n",
       "<table border=\"1\" class=\"dataframe\">\n",
       "  <thead>\n",
       "    <tr style=\"text-align: right;\">\n",
       "      <th></th>\n",
       "      <th>Id</th>\n",
       "      <th>SalePrice</th>\n",
       "    </tr>\n",
       "  </thead>\n",
       "  <tbody>\n",
       "    <tr>\n",
       "      <th>0</th>\n",
       "      <td>1461</td>\n",
       "      <td>169277.052498</td>\n",
       "    </tr>\n",
       "    <tr>\n",
       "      <th>1</th>\n",
       "      <td>1462</td>\n",
       "      <td>187758.393989</td>\n",
       "    </tr>\n",
       "    <tr>\n",
       "      <th>2</th>\n",
       "      <td>1463</td>\n",
       "      <td>183583.683570</td>\n",
       "    </tr>\n",
       "    <tr>\n",
       "      <th>3</th>\n",
       "      <td>1464</td>\n",
       "      <td>179317.477511</td>\n",
       "    </tr>\n",
       "    <tr>\n",
       "      <th>4</th>\n",
       "      <td>1465</td>\n",
       "      <td>150730.079977</td>\n",
       "    </tr>\n",
       "    <tr>\n",
       "      <th>...</th>\n",
       "      <td>...</td>\n",
       "      <td>...</td>\n",
       "    </tr>\n",
       "    <tr>\n",
       "      <th>1454</th>\n",
       "      <td>2915</td>\n",
       "      <td>167081.220949</td>\n",
       "    </tr>\n",
       "    <tr>\n",
       "      <th>1455</th>\n",
       "      <td>2916</td>\n",
       "      <td>164788.778231</td>\n",
       "    </tr>\n",
       "    <tr>\n",
       "      <th>1456</th>\n",
       "      <td>2917</td>\n",
       "      <td>219222.423400</td>\n",
       "    </tr>\n",
       "    <tr>\n",
       "      <th>1457</th>\n",
       "      <td>2918</td>\n",
       "      <td>184924.279659</td>\n",
       "    </tr>\n",
       "    <tr>\n",
       "      <th>1458</th>\n",
       "      <td>2919</td>\n",
       "      <td>187741.866657</td>\n",
       "    </tr>\n",
       "  </tbody>\n",
       "</table>\n",
       "<p>1459 rows × 2 columns</p>\n",
       "</div>"
      ],
      "text/plain": [
       "        Id      SalePrice\n",
       "0     1461  169277.052498\n",
       "1     1462  187758.393989\n",
       "2     1463  183583.683570\n",
       "3     1464  179317.477511\n",
       "4     1465  150730.079977\n",
       "...    ...            ...\n",
       "1454  2915  167081.220949\n",
       "1455  2916  164788.778231\n",
       "1456  2917  219222.423400\n",
       "1457  2918  184924.279659\n",
       "1458  2919  187741.866657\n",
       "\n",
       "[1459 rows x 2 columns]"
      ]
     },
     "execution_count": 60,
     "metadata": {},
     "output_type": "execute_result"
    }
   ],
   "source": [
    "submission_df"
   ]
  },
  {
   "cell_type": "markdown",
   "id": "b14940f6",
   "metadata": {},
   "source": [
    " Replace the values of the SalePrice column with our predictions."
   ]
  },
  {
   "cell_type": "code",
   "execution_count": 61,
   "id": "762ec1a6",
   "metadata": {},
   "outputs": [],
   "source": [
    "submission_df['SalePrice'] = test_preds"
   ]
  },
  {
   "cell_type": "code",
   "execution_count": 62,
   "id": "41c83e71",
   "metadata": {},
   "outputs": [
    {
     "data": {
      "text/plain": [
       "array([123174.15373233, 147625.45030759, 172876.39540099, ...,\n",
       "       151960.47389416, 123394.44518226, 217071.25098467])"
      ]
     },
     "execution_count": 62,
     "metadata": {},
     "output_type": "execute_result"
    }
   ],
   "source": [
    "test_preds"
   ]
  },
  {
   "cell_type": "markdown",
   "id": "f1b00cc4",
   "metadata": {},
   "source": [
    "Save it as a CSV file and download it."
   ]
  },
  {
   "cell_type": "code",
   "execution_count": 63,
   "id": "12d9e046",
   "metadata": {},
   "outputs": [],
   "source": [
    "submission_df.to_csv('submission.csv', index=False)"
   ]
  },
  {
   "cell_type": "code",
   "execution_count": 64,
   "id": "80aba477",
   "metadata": {},
   "outputs": [
    {
     "data": {
      "text/html": [
       "<a href='submission.csv' target='_blank'>submission.csv</a><br>"
      ],
      "text/plain": [
       "C:\\Users\\bdarv\\Links\\submission.csv"
      ]
     },
     "execution_count": 64,
     "metadata": {},
     "output_type": "execute_result"
    }
   ],
   "source": [
    "from IPython.display import FileLink\n",
    "FileLink('submission.csv')"
   ]
  },
  {
   "cell_type": "markdown",
   "id": "053cfd56",
   "metadata": {},
   "source": [
    "submit this csv file to the competition: https://www.kaggle.com/c/house-prices-advanced-regression-techniques/submissions\n",
    "\n"
   ]
  },
  {
   "cell_type": "markdown",
   "id": "6fe8102a",
   "metadata": {},
   "source": [
    "## Predictions on Single Inputs"
   ]
  },
  {
   "cell_type": "code",
   "execution_count": 65,
   "id": "d26f74a1",
   "metadata": {},
   "outputs": [],
   "source": [
    "def predict_input(model, single_input):\n",
    "    input_df = pd.DataFrame([single_input])\n",
    "    input_df[numeric_cols] = imputer.transform(input_df[numeric_cols])\n",
    "    input_df[numeric_cols] = scaler.transform(input_df[numeric_cols])\n",
    "    input_df[encoded_cols] = encoder.transform(input_df[categorical_cols].values)\n",
    "    return model.predict(input_df[numeric_cols + encoded_cols])[0]"
   ]
  },
  {
   "cell_type": "code",
   "execution_count": 66,
   "id": "4f9476da",
   "metadata": {},
   "outputs": [],
   "source": [
    "sample_input = { 'MSSubClass': 20, 'MSZoning': 'RL', 'LotFrontage': 77.0, 'LotArea': 9320,\n",
    " 'Street': 'Pave', 'Alley': None, 'LotShape': 'IR1', 'LandContour': 'Lvl', 'Utilities': 'AllPub',\n",
    " 'LotConfig': 'Inside', 'LandSlope': 'Gtl', 'Neighborhood': 'NAmes', 'Condition1': 'Norm', 'Condition2': 'Norm',\n",
    " 'BldgType': '1Fam', 'HouseStyle': '1Story', 'OverallQual': 4, 'OverallCond': 5, 'YearBuilt': 1959,\n",
    " 'YearRemodAdd': 1959, 'RoofStyle': 'Gable', 'RoofMatl': 'CompShg', 'Exterior1st': 'Plywood',\n",
    " 'Exterior2nd': 'Plywood', 'MasVnrType': 'None','MasVnrArea': 0.0,'ExterQual': 'TA','ExterCond': 'TA',\n",
    " 'Foundation': 'CBlock','BsmtQual': 'TA','BsmtCond': 'TA','BsmtExposure': 'No','BsmtFinType1': 'ALQ',\n",
    " 'BsmtFinSF1': 569,'BsmtFinType2': 'Unf','BsmtFinSF2': 0,'BsmtUnfSF': 381,\n",
    " 'TotalBsmtSF': 950,'Heating': 'GasA','HeatingQC': 'Fa','CentralAir': 'Y','Electrical': 'SBrkr', '1stFlrSF': 1225,\n",
    " '2ndFlrSF': 0, 'LowQualFinSF': 0, 'GrLivArea': 1225, 'BsmtFullBath': 1, 'BsmtHalfBath': 0, 'FullBath': 1,\n",
    " 'HalfBath': 1, 'BedroomAbvGr': 3, 'KitchenAbvGr': 1,'KitchenQual': 'TA','TotRmsAbvGrd': 6,'Functional': 'Typ',\n",
    " 'Fireplaces': 0,'FireplaceQu': np.nan,'GarageType': np.nan,'GarageYrBlt': np.nan,'GarageFinish': np.nan,'GarageCars': 0,\n",
    " 'GarageArea': 0,'GarageQual': np.nan,'GarageCond': np.nan,'PavedDrive': 'Y', 'WoodDeckSF': 352, 'OpenPorchSF': 0,\n",
    " 'EnclosedPorch': 0,'3SsnPorch': 0, 'ScreenPorch': 0, 'PoolArea': 0, 'PoolQC': np.nan, 'Fence': np.nan, 'MiscFeature': 'Shed',\n",
    " 'MiscVal': 400, 'MoSold': 1, 'YrSold': 2010, 'SaleType': 'WD', 'SaleCondition': 'Normal'}"
   ]
  },
  {
   "cell_type": "code",
   "execution_count": 67,
   "id": "d74624a4",
   "metadata": {},
   "outputs": [
    {
     "name": "stderr",
     "output_type": "stream",
     "text": [
      "C:\\Users\\bdarv\\anaconda3\\lib\\site-packages\\sklearn\\base.py:445: UserWarning: X does not have valid feature names, but OneHotEncoder was fitted with feature names\n",
      "  warnings.warn(\n",
      "C:\\Users\\bdarv\\anaconda3\\lib\\site-packages\\pandas\\core\\frame.py:3678: PerformanceWarning: DataFrame is highly fragmented.  This is usually the result of calling `frame.insert` many times, which has poor performance.  Consider joining all columns at once using pd.concat(axis=1) instead.  To get a de-fragmented frame, use `newframe = frame.copy()`\n",
      "  self[col] = igetitem(value, i)\n"
     ]
    }
   ],
   "source": [
    "predicted_price = predict_input(rf1, sample_input)"
   ]
  },
  {
   "cell_type": "code",
   "execution_count": 68,
   "id": "fc0387d7",
   "metadata": {},
   "outputs": [
    {
     "name": "stdout",
     "output_type": "stream",
     "text": [
      "The predicted sale price of the house is $123030.0928017531\n"
     ]
    }
   ],
   "source": [
    "print('The predicted sale price of the house is ${}'.format(predicted_price))"
   ]
  },
  {
   "cell_type": "markdown",
   "id": "ae991b5f",
   "metadata": {},
   "source": [
    "## Saving the Model"
   ]
  },
  {
   "cell_type": "code",
   "execution_count": 69,
   "id": "b711339c",
   "metadata": {},
   "outputs": [],
   "source": [
    "import joblib"
   ]
  },
  {
   "cell_type": "code",
   "execution_count": 70,
   "id": "f0d886f1",
   "metadata": {},
   "outputs": [],
   "source": [
    "house_prices_rf = {\n",
    "    'model': rf1,\n",
    "    'imputer': imputer,\n",
    "    'scaler': scaler,\n",
    "    'encoder': encoder,\n",
    "    'input_cols': input_cols,\n",
    "    'target_col': target_col,\n",
    "    'numeric_cols': numeric_cols,\n",
    "    'categorical_cols': categorical_cols,\n",
    "    'encoded_cols': encoded_cols\n",
    "}"
   ]
  },
  {
   "cell_type": "code",
   "execution_count": 71,
   "id": "c8b4736d",
   "metadata": {},
   "outputs": [
    {
     "data": {
      "text/plain": [
       "['house_prices_rf.joblib']"
      ]
     },
     "execution_count": 71,
     "metadata": {},
     "output_type": "execute_result"
    }
   ],
   "source": [
    "joblib.dump(house_prices_rf, 'house_prices_rf.joblib')"
   ]
  },
  {
   "cell_type": "code",
   "execution_count": null,
   "id": "179a6f03",
   "metadata": {},
   "outputs": [],
   "source": []
  }
 ],
 "metadata": {
  "kernelspec": {
   "display_name": "Python 3 (ipykernel)",
   "language": "python",
   "name": "python3"
  },
  "language_info": {
   "codemirror_mode": {
    "name": "ipython",
    "version": 3
   },
   "file_extension": ".py",
   "mimetype": "text/x-python",
   "name": "python",
   "nbconvert_exporter": "python",
   "pygments_lexer": "ipython3",
   "version": "3.8.8"
  }
 },
 "nbformat": 4,
 "nbformat_minor": 5
}
